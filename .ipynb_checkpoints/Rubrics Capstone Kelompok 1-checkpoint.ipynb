{
 "cells": [
  {
   "cell_type": "markdown",
   "metadata": {},
   "source": [
    "# CAPSTONE PROJECT"
   ]
  },
  {
   "cell_type": "markdown",
   "metadata": {},
   "source": [
    "* **Problem Statement and Data Preparation**"
   ]
  },
  {
   "cell_type": "code",
   "execution_count": null,
   "metadata": {},
   "outputs": [],
   "source": [
    "## write here\n",
    "#harapan lebih ke background, kenapa lebih milih data ini, output project seperti apa?\n",
    "#narasi\n"
   ]
  },
  {
   "cell_type": "markdown",
   "metadata": {},
   "source": [
    "* Import Library and Read Data"
   ]
  },
  {
   "cell_type": "code",
   "execution_count": 1,
   "metadata": {},
   "outputs": [],
   "source": [
    "# code here\n",
    "import numpy as np\n",
    "import pandas as pd \n",
    "import matplotlib.pyplot as plt\n",
    "from numpy.linalg import eig\n",
    "from pylab import rcParams\n",
    "from sklearn.preprocessing import StandardScaler\n",
    "from sklearn.decomposition import PCA\n",
    "from sklearn.cluster import KMeans\n",
    "from sklearn.metrics import silhouette_score\n",
    "import matplotlib.pyplot as plt\n",
    "import matplotlib.cm as cm\n",
    "import matplotlib.colors as colors\n",
    "import importlib\n",
    "import warnings\n",
    "warnings.simplefilter(action='ignore', category=FutureWarning)\n",
    "from helper import biplot_pca, plot_elbow, biplot_kmeans, plot_cluster_radar, BCSS\n",
    "from datetime import date\n",
    "\n",
    "plt.style.use('seaborn')"
   ]
  },
  {
   "cell_type": "code",
   "execution_count": 2,
   "metadata": {},
   "outputs": [
    {
     "name": "stdout",
     "output_type": "stream",
     "text": [
      "<class 'pandas.core.frame.DataFrame'>\n",
      "RangeIndex: 50000 entries, 0 to 49999\n",
      "Data columns (total 41 columns):\n",
      " #   Column               Non-Null Count  Dtype  \n",
      "---  ------               --------------  -----  \n",
      " 0   ID_PESERTA           50000 non-null  object \n",
      " 1   ID_CABANG            50000 non-null  int64  \n",
      " 2   TMT_KERJA            50000 non-null  object \n",
      " 3   TMT_TASPEN           50000 non-null  object \n",
      " 4   TGLPMK               25308 non-null  object \n",
      " 5   BUP                  50000 non-null  float64\n",
      " 6   BLTHGAJI             47017 non-null  object \n",
      " 7   KODEREG              947 non-null    float64\n",
      " 8   JMLISTRI             50000 non-null  int64  \n",
      " 9   JMLANAK              50000 non-null  int64  \n",
      " 10  THP                  50000 non-null  int64  \n",
      " 11  PERSEN_GAPOK         50000 non-null  float64\n",
      " 12  TMT_MUTASI           50000 non-null  object \n",
      " 13  TUKIN                48964 non-null  float64\n",
      " 14  TUJAB                49980 non-null  float64\n",
      " 15  NILAI_REALISASI      49992 non-null  float64\n",
      " 16  TGL_CAIR_SAP         25862 non-null  object \n",
      " 17  TGL_UPDATE_SAP       25862 non-null  object \n",
      " 18  KETERANGAN           24163 non-null  object \n",
      " 19  GELAR_DEPAN          5334 non-null   object \n",
      " 20  GELAR_AKHIR          11219 non-null  object \n",
      " 21  TGL_LAHIR            49997 non-null  object \n",
      " 22  TGL_WAFAT            2432 non-null   object \n",
      " 23  ALAMAT               48837 non-null  object \n",
      " 24  MASKER               47640 non-null  float64\n",
      " 25  TMT_GAPOK            47640 non-null  object \n",
      " 26  NILAI_BAWAH          47640 non-null  float64\n",
      " 27  NILAI_ATAS           47640 non-null  float64\n",
      " 28  ACTIVE               47640 non-null  float64\n",
      " 29  KODE_SATKER          48769 non-null  object \n",
      " 30  SATKER_PEMDA         48769 non-null  object \n",
      " 31  NAMA_SATKER          48769 non-null  object \n",
      " 32  NOTELP               173 non-null    float64\n",
      " 33  NAMA_STATUS_PEGAWAI  50000 non-null  object \n",
      " 34  KODE_JENIS_PEGAWAI   50000 non-null  int64  \n",
      " 35  NAMA_JENIS_PEGAWAI   50000 non-null  object \n",
      " 36  NAMA_DATI4           50000 non-null  object \n",
      " 37  NAMA_DATI3           50000 non-null  object \n",
      " 38  KOTA_DATI3           47845 non-null  object \n",
      " 39  NAMA_DATI2           50000 non-null  object \n",
      " 40  KOTA_DATI2           50000 non-null  object \n",
      "dtypes: float64(11), int64(5), object(25)\n",
      "memory usage: 15.6+ MB\n"
     ]
    }
   ],
   "source": [
    "#load data csv dan lihat spesifikasi dataset\n",
    "data = pd.read_csv('data_input/customer-data-new.csv')\n",
    "data.info()"
   ]
  },
  {
   "cell_type": "code",
   "execution_count": 3,
   "metadata": {},
   "outputs": [
    {
     "data": {
      "text/html": [
       "<div>\n",
       "<style scoped>\n",
       "    .dataframe tbody tr th:only-of-type {\n",
       "        vertical-align: middle;\n",
       "    }\n",
       "\n",
       "    .dataframe tbody tr th {\n",
       "        vertical-align: top;\n",
       "    }\n",
       "\n",
       "    .dataframe thead th {\n",
       "        text-align: right;\n",
       "    }\n",
       "</style>\n",
       "<table border=\"1\" class=\"dataframe\">\n",
       "  <thead>\n",
       "    <tr style=\"text-align: right;\">\n",
       "      <th></th>\n",
       "      <th>ID_PESERTA</th>\n",
       "      <th>ID_CABANG</th>\n",
       "      <th>TMT_KERJA</th>\n",
       "      <th>TMT_TASPEN</th>\n",
       "      <th>TGLPMK</th>\n",
       "      <th>BUP</th>\n",
       "      <th>BLTHGAJI</th>\n",
       "      <th>KODEREG</th>\n",
       "      <th>JMLISTRI</th>\n",
       "      <th>JMLANAK</th>\n",
       "      <th>...</th>\n",
       "      <th>NAMA_SATKER</th>\n",
       "      <th>NOTELP</th>\n",
       "      <th>NAMA_STATUS_PEGAWAI</th>\n",
       "      <th>KODE_JENIS_PEGAWAI</th>\n",
       "      <th>NAMA_JENIS_PEGAWAI</th>\n",
       "      <th>NAMA_DATI4</th>\n",
       "      <th>NAMA_DATI3</th>\n",
       "      <th>KOTA_DATI3</th>\n",
       "      <th>NAMA_DATI2</th>\n",
       "      <th>KOTA_DATI2</th>\n",
       "    </tr>\n",
       "  </thead>\n",
       "  <tbody>\n",
       "    <tr>\n",
       "      <th>0</th>\n",
       "      <td>16A8ED316F97425C1700B06CFB291994</td>\n",
       "      <td>2</td>\n",
       "      <td>1990-03-01</td>\n",
       "      <td>1990-03-01</td>\n",
       "      <td>2015-08-01</td>\n",
       "      <td>62.0</td>\n",
       "      <td>2014-05-01</td>\n",
       "      <td>NaN</td>\n",
       "      <td>1</td>\n",
       "      <td>2</td>\n",
       "      <td>...</td>\n",
       "      <td>PT ANEKA TAMBANG (ANTAM)</td>\n",
       "      <td>NaN</td>\n",
       "      <td>PEGAWAI PENSIUN</td>\n",
       "      <td>18</td>\n",
       "      <td>PNS YANG DIPERBANTUKAN KEBUMN BUKAN TASPEN</td>\n",
       "      <td>PEGANGSAAN DUA</td>\n",
       "      <td>KELAPA GADING</td>\n",
       "      <td>KELAPAGADING</td>\n",
       "      <td>JAKARTA UTARA</td>\n",
       "      <td>JAKARTAUTARA</td>\n",
       "    </tr>\n",
       "    <tr>\n",
       "      <th>1</th>\n",
       "      <td>F5EEFC316F97425C1700B06CFB291994</td>\n",
       "      <td>2</td>\n",
       "      <td>1980-02-01</td>\n",
       "      <td>1980-02-01</td>\n",
       "      <td>2016-05-01</td>\n",
       "      <td>58.0</td>\n",
       "      <td>2016-04-01</td>\n",
       "      <td>NaN</td>\n",
       "      <td>1</td>\n",
       "      <td>1</td>\n",
       "      <td>...</td>\n",
       "      <td>INSPKETUR PEMBANTU KOTA ADM.JAKARTA TIMUR</td>\n",
       "      <td>NaN</td>\n",
       "      <td>PEGAWAI PENSIUN</td>\n",
       "      <td>6</td>\n",
       "      <td>PNS DAERAH OTONOM</td>\n",
       "      <td>KAMAL</td>\n",
       "      <td>KALIDERES</td>\n",
       "      <td>KALIDERES</td>\n",
       "      <td>JAKARTA BARAT</td>\n",
       "      <td>JAKARTABARAT</td>\n",
       "    </tr>\n",
       "    <tr>\n",
       "      <th>2</th>\n",
       "      <td>F3B421316F97425C1700B06CFB291994</td>\n",
       "      <td>2</td>\n",
       "      <td>1975-07-01</td>\n",
       "      <td>1975-07-01</td>\n",
       "      <td>2011-09-01</td>\n",
       "      <td>58.0</td>\n",
       "      <td>2011-08-01</td>\n",
       "      <td>NaN</td>\n",
       "      <td>1</td>\n",
       "      <td>0</td>\n",
       "      <td>...</td>\n",
       "      <td>INSPKETUR PEMBANTU KOTA ADM.JAKARTA TIMUR</td>\n",
       "      <td>NaN</td>\n",
       "      <td>PEGAWAI PENSIUN</td>\n",
       "      <td>6</td>\n",
       "      <td>PNS DAERAH OTONOM</td>\n",
       "      <td>PISANGAN BARU</td>\n",
       "      <td>MATRAMAN</td>\n",
       "      <td>MATRAMAN</td>\n",
       "      <td>JAKARTA TIMUR</td>\n",
       "      <td>JAKARTATIMUR</td>\n",
       "    </tr>\n",
       "    <tr>\n",
       "      <th>3</th>\n",
       "      <td>281F43316F97425C1700B06CFB291994</td>\n",
       "      <td>2</td>\n",
       "      <td>1985-08-01</td>\n",
       "      <td>1985-08-01</td>\n",
       "      <td>2016-10-01</td>\n",
       "      <td>58.0</td>\n",
       "      <td>2016-09-01</td>\n",
       "      <td>NaN</td>\n",
       "      <td>1</td>\n",
       "      <td>1</td>\n",
       "      <td>...</td>\n",
       "      <td>INSPKETUR PEMBANTU KOTA ADM.JAKARTA TIMUR</td>\n",
       "      <td>NaN</td>\n",
       "      <td>PEGAWAI PENSIUN</td>\n",
       "      <td>6</td>\n",
       "      <td>PNS DAERAH OTONOM</td>\n",
       "      <td>CIPAYUNG</td>\n",
       "      <td>CIPAYUNG</td>\n",
       "      <td>CIPAYUNG</td>\n",
       "      <td>JAKARTA TIMUR</td>\n",
       "      <td>JAKARTATIMUR</td>\n",
       "    </tr>\n",
       "    <tr>\n",
       "      <th>4</th>\n",
       "      <td>942E3F316F97425C1700B06CFB291994</td>\n",
       "      <td>29</td>\n",
       "      <td>1984-03-01</td>\n",
       "      <td>1984-03-01</td>\n",
       "      <td>2011-06-01</td>\n",
       "      <td>58.0</td>\n",
       "      <td>2011-04-01</td>\n",
       "      <td>NaN</td>\n",
       "      <td>1</td>\n",
       "      <td>2</td>\n",
       "      <td>...</td>\n",
       "      <td>INSPKETUR PEMBANTU KOTA ADM.JAKARTA TIMUR</td>\n",
       "      <td>NaN</td>\n",
       "      <td>PEGAWAI PENSIUN</td>\n",
       "      <td>6</td>\n",
       "      <td>PNS DAERAH OTONOM</td>\n",
       "      <td>TELUK PUCUNG</td>\n",
       "      <td>BEKASI UTARA</td>\n",
       "      <td>BEKASIUTARA</td>\n",
       "      <td>KOTA BEKASI</td>\n",
       "      <td>BEKASI</td>\n",
       "    </tr>\n",
       "    <tr>\n",
       "      <th>...</th>\n",
       "      <td>...</td>\n",
       "      <td>...</td>\n",
       "      <td>...</td>\n",
       "      <td>...</td>\n",
       "      <td>...</td>\n",
       "      <td>...</td>\n",
       "      <td>...</td>\n",
       "      <td>...</td>\n",
       "      <td>...</td>\n",
       "      <td>...</td>\n",
       "      <td>...</td>\n",
       "      <td>...</td>\n",
       "      <td>...</td>\n",
       "      <td>...</td>\n",
       "      <td>...</td>\n",
       "      <td>...</td>\n",
       "      <td>...</td>\n",
       "      <td>...</td>\n",
       "      <td>...</td>\n",
       "      <td>...</td>\n",
       "      <td>...</td>\n",
       "    </tr>\n",
       "    <tr>\n",
       "      <th>49995</th>\n",
       "      <td>88FC44316F97425C1700B06CFB291994</td>\n",
       "      <td>2</td>\n",
       "      <td>1991-03-01</td>\n",
       "      <td>1991-03-01</td>\n",
       "      <td>NaN</td>\n",
       "      <td>58.0</td>\n",
       "      <td>2021-08-01</td>\n",
       "      <td>NaN</td>\n",
       "      <td>1</td>\n",
       "      <td>1</td>\n",
       "      <td>...</td>\n",
       "      <td>BIRO UMUM</td>\n",
       "      <td>NaN</td>\n",
       "      <td>PEGAWAI TETAP</td>\n",
       "      <td>1</td>\n",
       "      <td>PNS PUSAT</td>\n",
       "      <td>DKI JAKARTA</td>\n",
       "      <td>DKI JAKARTA</td>\n",
       "      <td>DKIJAKARTA</td>\n",
       "      <td>DKI JAKARTA</td>\n",
       "      <td>DKIJAKARTA</td>\n",
       "    </tr>\n",
       "    <tr>\n",
       "      <th>49996</th>\n",
       "      <td>27DB24316F97425C1700B06CFB291994</td>\n",
       "      <td>2</td>\n",
       "      <td>2019-04-01</td>\n",
       "      <td>2019-02-01</td>\n",
       "      <td>NaN</td>\n",
       "      <td>58.0</td>\n",
       "      <td>2021-08-01</td>\n",
       "      <td>NaN</td>\n",
       "      <td>0</td>\n",
       "      <td>0</td>\n",
       "      <td>...</td>\n",
       "      <td>GOL III/A</td>\n",
       "      <td>NaN</td>\n",
       "      <td>PEGAWAI TETAP</td>\n",
       "      <td>1</td>\n",
       "      <td>PNS PUSAT</td>\n",
       "      <td>JATIRASA</td>\n",
       "      <td>JATIASIH</td>\n",
       "      <td>JATIASIH</td>\n",
       "      <td>KOTA BEKASI</td>\n",
       "      <td>BEKASI</td>\n",
       "    </tr>\n",
       "    <tr>\n",
       "      <th>49997</th>\n",
       "      <td>69322E316F97425C1700B06CFB291994</td>\n",
       "      <td>2</td>\n",
       "      <td>2018-03-01</td>\n",
       "      <td>2018-01-01</td>\n",
       "      <td>NaN</td>\n",
       "      <td>58.0</td>\n",
       "      <td>2021-08-01</td>\n",
       "      <td>NaN</td>\n",
       "      <td>1</td>\n",
       "      <td>1</td>\n",
       "      <td>...</td>\n",
       "      <td>GOL III/A</td>\n",
       "      <td>NaN</td>\n",
       "      <td>PEGAWAI TETAP</td>\n",
       "      <td>1</td>\n",
       "      <td>PNS PUSAT</td>\n",
       "      <td>DKI JAKARTA</td>\n",
       "      <td>DKI JAKARTA</td>\n",
       "      <td>DKIJAKARTA</td>\n",
       "      <td>DKI JAKARTA</td>\n",
       "      <td>DKIJAKARTA</td>\n",
       "    </tr>\n",
       "    <tr>\n",
       "      <th>49998</th>\n",
       "      <td>7492E9316F97425C1700B06CFB291994</td>\n",
       "      <td>2</td>\n",
       "      <td>2019-04-01</td>\n",
       "      <td>2019-02-01</td>\n",
       "      <td>NaN</td>\n",
       "      <td>58.0</td>\n",
       "      <td>2021-08-01</td>\n",
       "      <td>NaN</td>\n",
       "      <td>0</td>\n",
       "      <td>0</td>\n",
       "      <td>...</td>\n",
       "      <td>GOL III/A</td>\n",
       "      <td>NaN</td>\n",
       "      <td>PEGAWAI TETAP</td>\n",
       "      <td>1</td>\n",
       "      <td>PNS PUSAT</td>\n",
       "      <td>PAKUALAM</td>\n",
       "      <td>SERPONG UTARA</td>\n",
       "      <td>NaN</td>\n",
       "      <td>KABUPATEN TANGERANG</td>\n",
       "      <td>KABUPATENTANGERANG</td>\n",
       "    </tr>\n",
       "    <tr>\n",
       "      <th>49999</th>\n",
       "      <td>D02D31316F97425C1700B06CFB291994</td>\n",
       "      <td>2</td>\n",
       "      <td>1996-03-01</td>\n",
       "      <td>1996-03-01</td>\n",
       "      <td>NaN</td>\n",
       "      <td>58.0</td>\n",
       "      <td>2021-09-01</td>\n",
       "      <td>NaN</td>\n",
       "      <td>1</td>\n",
       "      <td>1</td>\n",
       "      <td>...</td>\n",
       "      <td>SUKU DINAS PERTAMANAN DAN HUTAN KOTA KOTA ADM....</td>\n",
       "      <td>NaN</td>\n",
       "      <td>PEGAWAI TETAP</td>\n",
       "      <td>6</td>\n",
       "      <td>PNS DAERAH OTONOM</td>\n",
       "      <td>DKI JAKARTA</td>\n",
       "      <td>DKI JAKARTA</td>\n",
       "      <td>DKIJAKARTA</td>\n",
       "      <td>DKI JAKARTA</td>\n",
       "      <td>DKIJAKARTA</td>\n",
       "    </tr>\n",
       "  </tbody>\n",
       "</table>\n",
       "<p>50000 rows × 41 columns</p>\n",
       "</div>"
      ],
      "text/plain": [
       "                             ID_PESERTA  ID_CABANG   TMT_KERJA  TMT_TASPEN  \\\n",
       "0      16A8ED316F97425C1700B06CFB291994          2  1990-03-01  1990-03-01   \n",
       "1      F5EEFC316F97425C1700B06CFB291994          2  1980-02-01  1980-02-01   \n",
       "2      F3B421316F97425C1700B06CFB291994          2  1975-07-01  1975-07-01   \n",
       "3      281F43316F97425C1700B06CFB291994          2  1985-08-01  1985-08-01   \n",
       "4      942E3F316F97425C1700B06CFB291994         29  1984-03-01  1984-03-01   \n",
       "...                                 ...        ...         ...         ...   \n",
       "49995  88FC44316F97425C1700B06CFB291994          2  1991-03-01  1991-03-01   \n",
       "49996  27DB24316F97425C1700B06CFB291994          2  2019-04-01  2019-02-01   \n",
       "49997  69322E316F97425C1700B06CFB291994          2  2018-03-01  2018-01-01   \n",
       "49998  7492E9316F97425C1700B06CFB291994          2  2019-04-01  2019-02-01   \n",
       "49999  D02D31316F97425C1700B06CFB291994          2  1996-03-01  1996-03-01   \n",
       "\n",
       "           TGLPMK   BUP    BLTHGAJI  KODEREG  JMLISTRI  JMLANAK  ...  \\\n",
       "0      2015-08-01  62.0  2014-05-01      NaN         1        2  ...   \n",
       "1      2016-05-01  58.0  2016-04-01      NaN         1        1  ...   \n",
       "2      2011-09-01  58.0  2011-08-01      NaN         1        0  ...   \n",
       "3      2016-10-01  58.0  2016-09-01      NaN         1        1  ...   \n",
       "4      2011-06-01  58.0  2011-04-01      NaN         1        2  ...   \n",
       "...           ...   ...         ...      ...       ...      ...  ...   \n",
       "49995         NaN  58.0  2021-08-01      NaN         1        1  ...   \n",
       "49996         NaN  58.0  2021-08-01      NaN         0        0  ...   \n",
       "49997         NaN  58.0  2021-08-01      NaN         1        1  ...   \n",
       "49998         NaN  58.0  2021-08-01      NaN         0        0  ...   \n",
       "49999         NaN  58.0  2021-09-01      NaN         1        1  ...   \n",
       "\n",
       "                                             NAMA_SATKER  NOTELP  \\\n",
       "0                               PT ANEKA TAMBANG (ANTAM)     NaN   \n",
       "1              INSPKETUR PEMBANTU KOTA ADM.JAKARTA TIMUR     NaN   \n",
       "2              INSPKETUR PEMBANTU KOTA ADM.JAKARTA TIMUR     NaN   \n",
       "3              INSPKETUR PEMBANTU KOTA ADM.JAKARTA TIMUR     NaN   \n",
       "4              INSPKETUR PEMBANTU KOTA ADM.JAKARTA TIMUR     NaN   \n",
       "...                                                  ...     ...   \n",
       "49995                                          BIRO UMUM     NaN   \n",
       "49996                                          GOL III/A     NaN   \n",
       "49997                                          GOL III/A     NaN   \n",
       "49998                                          GOL III/A     NaN   \n",
       "49999  SUKU DINAS PERTAMANAN DAN HUTAN KOTA KOTA ADM....     NaN   \n",
       "\n",
       "      NAMA_STATUS_PEGAWAI  KODE_JENIS_PEGAWAI  \\\n",
       "0         PEGAWAI PENSIUN                  18   \n",
       "1         PEGAWAI PENSIUN                   6   \n",
       "2         PEGAWAI PENSIUN                   6   \n",
       "3         PEGAWAI PENSIUN                   6   \n",
       "4         PEGAWAI PENSIUN                   6   \n",
       "...                   ...                 ...   \n",
       "49995       PEGAWAI TETAP                   1   \n",
       "49996       PEGAWAI TETAP                   1   \n",
       "49997       PEGAWAI TETAP                   1   \n",
       "49998       PEGAWAI TETAP                   1   \n",
       "49999       PEGAWAI TETAP                   6   \n",
       "\n",
       "                               NAMA_JENIS_PEGAWAI      NAMA_DATI4  \\\n",
       "0      PNS YANG DIPERBANTUKAN KEBUMN BUKAN TASPEN  PEGANGSAAN DUA   \n",
       "1                               PNS DAERAH OTONOM           KAMAL   \n",
       "2                               PNS DAERAH OTONOM   PISANGAN BARU   \n",
       "3                               PNS DAERAH OTONOM        CIPAYUNG   \n",
       "4                               PNS DAERAH OTONOM    TELUK PUCUNG   \n",
       "...                                           ...             ...   \n",
       "49995                                   PNS PUSAT     DKI JAKARTA   \n",
       "49996                                   PNS PUSAT        JATIRASA   \n",
       "49997                                   PNS PUSAT     DKI JAKARTA   \n",
       "49998                                   PNS PUSAT        PAKUALAM   \n",
       "49999                           PNS DAERAH OTONOM     DKI JAKARTA   \n",
       "\n",
       "          NAMA_DATI3    KOTA_DATI3           NAMA_DATI2          KOTA_DATI2  \n",
       "0      KELAPA GADING  KELAPAGADING        JAKARTA UTARA        JAKARTAUTARA  \n",
       "1          KALIDERES     KALIDERES        JAKARTA BARAT        JAKARTABARAT  \n",
       "2           MATRAMAN      MATRAMAN        JAKARTA TIMUR        JAKARTATIMUR  \n",
       "3           CIPAYUNG      CIPAYUNG        JAKARTA TIMUR        JAKARTATIMUR  \n",
       "4       BEKASI UTARA   BEKASIUTARA          KOTA BEKASI              BEKASI  \n",
       "...              ...           ...                  ...                 ...  \n",
       "49995    DKI JAKARTA    DKIJAKARTA          DKI JAKARTA          DKIJAKARTA  \n",
       "49996       JATIASIH      JATIASIH          KOTA BEKASI              BEKASI  \n",
       "49997    DKI JAKARTA    DKIJAKARTA          DKI JAKARTA          DKIJAKARTA  \n",
       "49998  SERPONG UTARA           NaN  KABUPATEN TANGERANG  KABUPATENTANGERANG  \n",
       "49999    DKI JAKARTA    DKIJAKARTA          DKI JAKARTA          DKIJAKARTA  \n",
       "\n",
       "[50000 rows x 41 columns]"
      ]
     },
     "execution_count": 3,
     "metadata": {},
     "output_type": "execute_result"
    }
   ],
   "source": [
    "#view data\n",
    "data"
   ]
  },
  {
   "cell_type": "markdown",
   "metadata": {},
   "source": [
    "* **Data Wrangling** (*6 points*)\n",
    "\n",
    "  * Demonstrated how to apply some data transformations,handling missing values and duplicated or any statistical approach here to make sure that your data is \"ready\".\n",
    "  * Demonstrated how to properly do feature engineering/ variable selection."
   ]
  },
  {
   "cell_type": "code",
   "execution_count": 220,
   "metadata": {},
   "outputs": [
    {
     "data": {
      "text/plain": [
       "0"
      ]
     },
     "execution_count": 220,
     "metadata": {},
     "output_type": "execute_result"
    }
   ],
   "source": [
    "#cek data duplicate dari data\n",
    "data.duplicated().sum()"
   ]
  },
  {
   "cell_type": "code",
   "execution_count": 221,
   "metadata": {
    "scrolled": true
   },
   "outputs": [
    {
     "data": {
      "text/plain": [
       "ID_PESERTA                 0\n",
       "ID_CABANG                  0\n",
       "TMT_KERJA                  0\n",
       "TMT_TASPEN                 0\n",
       "TGLPMK                 24692\n",
       "BUP                        0\n",
       "BLTHGAJI                2983\n",
       "KODEREG                49053\n",
       "JMLISTRI                   0\n",
       "JMLANAK                    0\n",
       "THP                        0\n",
       "PERSEN_GAPOK               0\n",
       "TMT_MUTASI                 0\n",
       "TUKIN                   1036\n",
       "TUJAB                     20\n",
       "NILAI_REALISASI            8\n",
       "TGL_CAIR_SAP           24138\n",
       "TGL_UPDATE_SAP         24138\n",
       "KETERANGAN             25837\n",
       "GELAR_DEPAN            44666\n",
       "GELAR_AKHIR            38781\n",
       "TGL_LAHIR                  3\n",
       "TGL_WAFAT              47568\n",
       "ALAMAT                  1163\n",
       "MASKER                  2360\n",
       "TMT_GAPOK               2360\n",
       "NILAI_BAWAH             2360\n",
       "NILAI_ATAS              2360\n",
       "ACTIVE                  2360\n",
       "KODE_SATKER             1231\n",
       "SATKER_PEMDA            1231\n",
       "NAMA_SATKER             1231\n",
       "NOTELP                 49827\n",
       "NAMA_STATUS_PEGAWAI        0\n",
       "KODE_JENIS_PEGAWAI         0\n",
       "NAMA_JENIS_PEGAWAI         0\n",
       "NAMA_DATI4                 0\n",
       "NAMA_DATI3                 0\n",
       "KOTA_DATI3              2155\n",
       "NAMA_DATI2                 0\n",
       "KOTA_DATI2                 0\n",
       "dtype: int64"
      ]
     },
     "execution_count": 221,
     "metadata": {},
     "output_type": "execute_result"
    }
   ],
   "source": [
    "#cek data duplicate\n",
    "data.isna().sum()"
   ]
  },
  {
   "cell_type": "code",
   "execution_count": 289,
   "metadata": {},
   "outputs": [],
   "source": [
    "#ambil field yang dapat dianalisis\n",
    "kolom = ['ID_PESERTA','ID_CABANG','TMT_KERJA','TMT_TASPEN','TGLPMK','BUP','JMLISTRI','JMLANAK','THP','TGL_LAHIR','TGL_WAFAT',\n",
    "         'MASKER','SATKER_PEMDA','NAMA_SATKER','NAMA_STATUS_PEGAWAI','KODE_JENIS_PEGAWAI','NAMA_JENIS_PEGAWAI','NAMA_DATI4',\n",
    "         'NAMA_DATI3','NAMA_DATI2']\n",
    "data_new = data[kolom]"
   ]
  },
  {
   "cell_type": "code",
   "execution_count": 292,
   "metadata": {},
   "outputs": [],
   "source": [
    "#data_new.dropna(thresh=16).shape\n",
    "data_new = data_new.dropna(thresh=16)"
   ]
  },
  {
   "cell_type": "code",
   "execution_count": 293,
   "metadata": {
    "scrolled": true
   },
   "outputs": [
    {
     "data": {
      "text/plain": [
       "ID_PESERTA                 0\n",
       "ID_CABANG                  0\n",
       "TMT_KERJA                  0\n",
       "TMT_TASPEN                 0\n",
       "TGLPMK                 24690\n",
       "BUP                        0\n",
       "JMLISTRI                   0\n",
       "JMLANAK                    0\n",
       "THP                        0\n",
       "TGL_LAHIR                  0\n",
       "TGL_WAFAT              47563\n",
       "MASKER                  2355\n",
       "SATKER_PEMDA            1226\n",
       "NAMA_SATKER             1226\n",
       "NAMA_STATUS_PEGAWAI        0\n",
       "KODE_JENIS_PEGAWAI         0\n",
       "NAMA_JENIS_PEGAWAI         0\n",
       "NAMA_DATI4                 0\n",
       "NAMA_DATI3                 0\n",
       "NAMA_DATI2                 0\n",
       "dtype: int64"
      ]
     },
     "execution_count": 293,
     "metadata": {},
     "output_type": "execute_result"
    }
   ],
   "source": [
    "data_new.isna().sum()"
   ]
  },
  {
   "cell_type": "code",
   "execution_count": 294,
   "metadata": {
    "scrolled": true
   },
   "outputs": [],
   "source": [
    "data_new['TGL_LAHIR'] = data_new['TGL_LAHIR'].astype('datetime64')"
   ]
  },
  {
   "cell_type": "code",
   "execution_count": 295,
   "metadata": {},
   "outputs": [
    {
     "data": {
      "text/plain": [
       "datetime.date(2021, 10, 11)"
      ]
     },
     "execution_count": 295,
     "metadata": {},
     "output_type": "execute_result"
    }
   ],
   "source": [
    "date.today()"
   ]
  },
  {
   "cell_type": "code",
   "execution_count": 297,
   "metadata": {},
   "outputs": [],
   "source": [
    "data_new['UMUR'] = date.today().year - data_new['TGL_LAHIR'].dt.year"
   ]
  },
  {
   "cell_type": "code",
   "execution_count": 304,
   "metadata": {},
   "outputs": [
    {
     "data": {
      "text/html": [
       "<div>\n",
       "<style scoped>\n",
       "    .dataframe tbody tr th:only-of-type {\n",
       "        vertical-align: middle;\n",
       "    }\n",
       "\n",
       "    .dataframe tbody tr th {\n",
       "        vertical-align: top;\n",
       "    }\n",
       "\n",
       "    .dataframe thead th {\n",
       "        text-align: right;\n",
       "    }\n",
       "</style>\n",
       "<table border=\"1\" class=\"dataframe\">\n",
       "  <thead>\n",
       "    <tr style=\"text-align: right;\">\n",
       "      <th></th>\n",
       "      <th>ID_PESERTA</th>\n",
       "      <th>ID_CABANG</th>\n",
       "      <th>TMT_KERJA</th>\n",
       "      <th>TMT_TASPEN</th>\n",
       "      <th>TGLPMK</th>\n",
       "      <th>BUP</th>\n",
       "      <th>JMLISTRI</th>\n",
       "      <th>JMLANAK</th>\n",
       "      <th>THP</th>\n",
       "      <th>TGL_LAHIR</th>\n",
       "      <th>...</th>\n",
       "      <th>MASKER</th>\n",
       "      <th>SATKER_PEMDA</th>\n",
       "      <th>NAMA_SATKER</th>\n",
       "      <th>NAMA_STATUS_PEGAWAI</th>\n",
       "      <th>KODE_JENIS_PEGAWAI</th>\n",
       "      <th>NAMA_JENIS_PEGAWAI</th>\n",
       "      <th>NAMA_DATI4</th>\n",
       "      <th>NAMA_DATI3</th>\n",
       "      <th>NAMA_DATI2</th>\n",
       "      <th>UMUR</th>\n",
       "    </tr>\n",
       "  </thead>\n",
       "  <tbody>\n",
       "    <tr>\n",
       "      <th>0</th>\n",
       "      <td>16A8ED316F97425C1700B06CFB291994</td>\n",
       "      <td>2</td>\n",
       "      <td>1990-03-01</td>\n",
       "      <td>1990-03-01</td>\n",
       "      <td>2015-08-01</td>\n",
       "      <td>62.0</td>\n",
       "      <td>1</td>\n",
       "      <td>2</td>\n",
       "      <td>4415220</td>\n",
       "      <td>1961-04-29</td>\n",
       "      <td>...</td>\n",
       "      <td>17.0</td>\n",
       "      <td>401108</td>\n",
       "      <td>PT ANEKA TAMBANG (ANTAM)</td>\n",
       "      <td>PEGAWAI PENSIUN</td>\n",
       "      <td>18</td>\n",
       "      <td>PNS YANG DIPERBANTUKAN KEBUMN BUKAN TASPEN</td>\n",
       "      <td>PEGANGSAAN DUA</td>\n",
       "      <td>KELAPA GADING</td>\n",
       "      <td>JAKARTA UTARA</td>\n",
       "      <td>60</td>\n",
       "    </tr>\n",
       "    <tr>\n",
       "      <th>1</th>\n",
       "      <td>F5EEFC316F97425C1700B06CFB291994</td>\n",
       "      <td>2</td>\n",
       "      <td>1980-02-01</td>\n",
       "      <td>1980-02-01</td>\n",
       "      <td>2016-05-01</td>\n",
       "      <td>58.0</td>\n",
       "      <td>1</td>\n",
       "      <td>1</td>\n",
       "      <td>5170592</td>\n",
       "      <td>1958-04-09</td>\n",
       "      <td>...</td>\n",
       "      <td>30.0</td>\n",
       "      <td>500000103</td>\n",
       "      <td>INSPKETUR PEMBANTU KOTA ADM.JAKARTA TIMUR</td>\n",
       "      <td>PEGAWAI PENSIUN</td>\n",
       "      <td>6</td>\n",
       "      <td>PNS DAERAH OTONOM</td>\n",
       "      <td>KAMAL</td>\n",
       "      <td>KALIDERES</td>\n",
       "      <td>JAKARTA BARAT</td>\n",
       "      <td>63</td>\n",
       "    </tr>\n",
       "    <tr>\n",
       "      <th>2</th>\n",
       "      <td>F3B421316F97425C1700B06CFB291994</td>\n",
       "      <td>2</td>\n",
       "      <td>1975-07-01</td>\n",
       "      <td>1975-07-01</td>\n",
       "      <td>2011-09-01</td>\n",
       "      <td>58.0</td>\n",
       "      <td>1</td>\n",
       "      <td>0</td>\n",
       "      <td>3422760</td>\n",
       "      <td>1955-08-29</td>\n",
       "      <td>...</td>\n",
       "      <td>30.0</td>\n",
       "      <td>500000103</td>\n",
       "      <td>INSPKETUR PEMBANTU KOTA ADM.JAKARTA TIMUR</td>\n",
       "      <td>PEGAWAI PENSIUN</td>\n",
       "      <td>6</td>\n",
       "      <td>PNS DAERAH OTONOM</td>\n",
       "      <td>PISANGAN BARU</td>\n",
       "      <td>MATRAMAN</td>\n",
       "      <td>JAKARTA TIMUR</td>\n",
       "      <td>66</td>\n",
       "    </tr>\n",
       "    <tr>\n",
       "      <th>3</th>\n",
       "      <td>281F43316F97425C1700B06CFB291994</td>\n",
       "      <td>2</td>\n",
       "      <td>1985-08-01</td>\n",
       "      <td>1985-08-01</td>\n",
       "      <td>2016-10-01</td>\n",
       "      <td>58.0</td>\n",
       "      <td>1</td>\n",
       "      <td>1</td>\n",
       "      <td>4473280</td>\n",
       "      <td>1958-09-27</td>\n",
       "      <td>...</td>\n",
       "      <td>26.0</td>\n",
       "      <td>500000103</td>\n",
       "      <td>INSPKETUR PEMBANTU KOTA ADM.JAKARTA TIMUR</td>\n",
       "      <td>PEGAWAI PENSIUN</td>\n",
       "      <td>6</td>\n",
       "      <td>PNS DAERAH OTONOM</td>\n",
       "      <td>CIPAYUNG</td>\n",
       "      <td>CIPAYUNG</td>\n",
       "      <td>JAKARTA TIMUR</td>\n",
       "      <td>63</td>\n",
       "    </tr>\n",
       "    <tr>\n",
       "      <th>4</th>\n",
       "      <td>942E3F316F97425C1700B06CFB291994</td>\n",
       "      <td>29</td>\n",
       "      <td>1984-03-01</td>\n",
       "      <td>1984-03-01</td>\n",
       "      <td>2011-06-01</td>\n",
       "      <td>58.0</td>\n",
       "      <td>1</td>\n",
       "      <td>2</td>\n",
       "      <td>2720704</td>\n",
       "      <td>1955-05-27</td>\n",
       "      <td>...</td>\n",
       "      <td>23.0</td>\n",
       "      <td>500000103</td>\n",
       "      <td>INSPKETUR PEMBANTU KOTA ADM.JAKARTA TIMUR</td>\n",
       "      <td>PEGAWAI PENSIUN</td>\n",
       "      <td>6</td>\n",
       "      <td>PNS DAERAH OTONOM</td>\n",
       "      <td>TELUK PUCUNG</td>\n",
       "      <td>BEKASI UTARA</td>\n",
       "      <td>KOTA BEKASI</td>\n",
       "      <td>66</td>\n",
       "    </tr>\n",
       "    <tr>\n",
       "      <th>...</th>\n",
       "      <td>...</td>\n",
       "      <td>...</td>\n",
       "      <td>...</td>\n",
       "      <td>...</td>\n",
       "      <td>...</td>\n",
       "      <td>...</td>\n",
       "      <td>...</td>\n",
       "      <td>...</td>\n",
       "      <td>...</td>\n",
       "      <td>...</td>\n",
       "      <td>...</td>\n",
       "      <td>...</td>\n",
       "      <td>...</td>\n",
       "      <td>...</td>\n",
       "      <td>...</td>\n",
       "      <td>...</td>\n",
       "      <td>...</td>\n",
       "      <td>...</td>\n",
       "      <td>...</td>\n",
       "      <td>...</td>\n",
       "      <td>...</td>\n",
       "    </tr>\n",
       "    <tr>\n",
       "      <th>49995</th>\n",
       "      <td>88FC44316F97425C1700B06CFB291994</td>\n",
       "      <td>2</td>\n",
       "      <td>1991-03-01</td>\n",
       "      <td>1991-03-01</td>\n",
       "      <td>NaN</td>\n",
       "      <td>58.0</td>\n",
       "      <td>1</td>\n",
       "      <td>1</td>\n",
       "      <td>4601072</td>\n",
       "      <td>1970-05-24</td>\n",
       "      <td>...</td>\n",
       "      <td>23.0</td>\n",
       "      <td>13759001</td>\n",
       "      <td>BIRO UMUM</td>\n",
       "      <td>PEGAWAI TETAP</td>\n",
       "      <td>1</td>\n",
       "      <td>PNS PUSAT</td>\n",
       "      <td>DKI JAKARTA</td>\n",
       "      <td>DKI JAKARTA</td>\n",
       "      <td>DKI JAKARTA</td>\n",
       "      <td>51</td>\n",
       "    </tr>\n",
       "    <tr>\n",
       "      <th>49996</th>\n",
       "      <td>27DB24316F97425C1700B06CFB291994</td>\n",
       "      <td>2</td>\n",
       "      <td>2019-04-01</td>\n",
       "      <td>2019-02-01</td>\n",
       "      <td>NaN</td>\n",
       "      <td>58.0</td>\n",
       "      <td>0</td>\n",
       "      <td>0</td>\n",
       "      <td>2660700</td>\n",
       "      <td>1993-11-19</td>\n",
       "      <td>...</td>\n",
       "      <td>3.0</td>\n",
       "      <td>45032903</td>\n",
       "      <td>GOL III/A</td>\n",
       "      <td>PEGAWAI TETAP</td>\n",
       "      <td>1</td>\n",
       "      <td>PNS PUSAT</td>\n",
       "      <td>JATIRASA</td>\n",
       "      <td>JATIASIH</td>\n",
       "      <td>KOTA BEKASI</td>\n",
       "      <td>28</td>\n",
       "    </tr>\n",
       "    <tr>\n",
       "      <th>49997</th>\n",
       "      <td>69322E316F97425C1700B06CFB291994</td>\n",
       "      <td>2</td>\n",
       "      <td>2018-03-01</td>\n",
       "      <td>2018-01-01</td>\n",
       "      <td>NaN</td>\n",
       "      <td>58.0</td>\n",
       "      <td>1</td>\n",
       "      <td>1</td>\n",
       "      <td>3073840</td>\n",
       "      <td>1991-02-09</td>\n",
       "      <td>...</td>\n",
       "      <td>5.0</td>\n",
       "      <td>45032903</td>\n",
       "      <td>GOL III/A</td>\n",
       "      <td>PEGAWAI TETAP</td>\n",
       "      <td>1</td>\n",
       "      <td>PNS PUSAT</td>\n",
       "      <td>DKI JAKARTA</td>\n",
       "      <td>DKI JAKARTA</td>\n",
       "      <td>DKI JAKARTA</td>\n",
       "      <td>30</td>\n",
       "    </tr>\n",
       "    <tr>\n",
       "      <th>49998</th>\n",
       "      <td>7492E9316F97425C1700B06CFB291994</td>\n",
       "      <td>2</td>\n",
       "      <td>2019-04-01</td>\n",
       "      <td>2019-02-01</td>\n",
       "      <td>NaN</td>\n",
       "      <td>58.0</td>\n",
       "      <td>0</td>\n",
       "      <td>0</td>\n",
       "      <td>2660700</td>\n",
       "      <td>1994-05-16</td>\n",
       "      <td>...</td>\n",
       "      <td>3.0</td>\n",
       "      <td>45032903</td>\n",
       "      <td>GOL III/A</td>\n",
       "      <td>PEGAWAI TETAP</td>\n",
       "      <td>1</td>\n",
       "      <td>PNS PUSAT</td>\n",
       "      <td>PAKUALAM</td>\n",
       "      <td>SERPONG UTARA</td>\n",
       "      <td>KABUPATEN TANGERANG</td>\n",
       "      <td>27</td>\n",
       "    </tr>\n",
       "    <tr>\n",
       "      <th>49999</th>\n",
       "      <td>D02D31316F97425C1700B06CFB291994</td>\n",
       "      <td>2</td>\n",
       "      <td>1996-03-01</td>\n",
       "      <td>1996-03-01</td>\n",
       "      <td>NaN</td>\n",
       "      <td>58.0</td>\n",
       "      <td>1</td>\n",
       "      <td>1</td>\n",
       "      <td>4460512</td>\n",
       "      <td>1971-05-07</td>\n",
       "      <td>...</td>\n",
       "      <td>21.0</td>\n",
       "      <td>400003990</td>\n",
       "      <td>SUKU DINAS PERTAMANAN DAN HUTAN KOTA KOTA ADM....</td>\n",
       "      <td>PEGAWAI TETAP</td>\n",
       "      <td>6</td>\n",
       "      <td>PNS DAERAH OTONOM</td>\n",
       "      <td>DKI JAKARTA</td>\n",
       "      <td>DKI JAKARTA</td>\n",
       "      <td>DKI JAKARTA</td>\n",
       "      <td>50</td>\n",
       "    </tr>\n",
       "  </tbody>\n",
       "</table>\n",
       "<p>49995 rows × 21 columns</p>\n",
       "</div>"
      ],
      "text/plain": [
       "                             ID_PESERTA  ID_CABANG   TMT_KERJA  TMT_TASPEN  \\\n",
       "0      16A8ED316F97425C1700B06CFB291994          2  1990-03-01  1990-03-01   \n",
       "1      F5EEFC316F97425C1700B06CFB291994          2  1980-02-01  1980-02-01   \n",
       "2      F3B421316F97425C1700B06CFB291994          2  1975-07-01  1975-07-01   \n",
       "3      281F43316F97425C1700B06CFB291994          2  1985-08-01  1985-08-01   \n",
       "4      942E3F316F97425C1700B06CFB291994         29  1984-03-01  1984-03-01   \n",
       "...                                 ...        ...         ...         ...   \n",
       "49995  88FC44316F97425C1700B06CFB291994          2  1991-03-01  1991-03-01   \n",
       "49996  27DB24316F97425C1700B06CFB291994          2  2019-04-01  2019-02-01   \n",
       "49997  69322E316F97425C1700B06CFB291994          2  2018-03-01  2018-01-01   \n",
       "49998  7492E9316F97425C1700B06CFB291994          2  2019-04-01  2019-02-01   \n",
       "49999  D02D31316F97425C1700B06CFB291994          2  1996-03-01  1996-03-01   \n",
       "\n",
       "           TGLPMK   BUP  JMLISTRI  JMLANAK      THP  TGL_LAHIR  ... MASKER  \\\n",
       "0      2015-08-01  62.0         1        2  4415220 1961-04-29  ...   17.0   \n",
       "1      2016-05-01  58.0         1        1  5170592 1958-04-09  ...   30.0   \n",
       "2      2011-09-01  58.0         1        0  3422760 1955-08-29  ...   30.0   \n",
       "3      2016-10-01  58.0         1        1  4473280 1958-09-27  ...   26.0   \n",
       "4      2011-06-01  58.0         1        2  2720704 1955-05-27  ...   23.0   \n",
       "...           ...   ...       ...      ...      ...        ...  ...    ...   \n",
       "49995         NaN  58.0         1        1  4601072 1970-05-24  ...   23.0   \n",
       "49996         NaN  58.0         0        0  2660700 1993-11-19  ...    3.0   \n",
       "49997         NaN  58.0         1        1  3073840 1991-02-09  ...    5.0   \n",
       "49998         NaN  58.0         0        0  2660700 1994-05-16  ...    3.0   \n",
       "49999         NaN  58.0         1        1  4460512 1971-05-07  ...   21.0   \n",
       "\n",
       "       SATKER_PEMDA                                        NAMA_SATKER  \\\n",
       "0            401108                           PT ANEKA TAMBANG (ANTAM)   \n",
       "1         500000103          INSPKETUR PEMBANTU KOTA ADM.JAKARTA TIMUR   \n",
       "2         500000103          INSPKETUR PEMBANTU KOTA ADM.JAKARTA TIMUR   \n",
       "3         500000103          INSPKETUR PEMBANTU KOTA ADM.JAKARTA TIMUR   \n",
       "4         500000103          INSPKETUR PEMBANTU KOTA ADM.JAKARTA TIMUR   \n",
       "...             ...                                                ...   \n",
       "49995      13759001                                          BIRO UMUM   \n",
       "49996      45032903                                          GOL III/A   \n",
       "49997      45032903                                          GOL III/A   \n",
       "49998      45032903                                          GOL III/A   \n",
       "49999     400003990  SUKU DINAS PERTAMANAN DAN HUTAN KOTA KOTA ADM....   \n",
       "\n",
       "      NAMA_STATUS_PEGAWAI KODE_JENIS_PEGAWAI  \\\n",
       "0         PEGAWAI PENSIUN                 18   \n",
       "1         PEGAWAI PENSIUN                  6   \n",
       "2         PEGAWAI PENSIUN                  6   \n",
       "3         PEGAWAI PENSIUN                  6   \n",
       "4         PEGAWAI PENSIUN                  6   \n",
       "...                   ...                ...   \n",
       "49995       PEGAWAI TETAP                  1   \n",
       "49996       PEGAWAI TETAP                  1   \n",
       "49997       PEGAWAI TETAP                  1   \n",
       "49998       PEGAWAI TETAP                  1   \n",
       "49999       PEGAWAI TETAP                  6   \n",
       "\n",
       "                               NAMA_JENIS_PEGAWAI      NAMA_DATI4  \\\n",
       "0      PNS YANG DIPERBANTUKAN KEBUMN BUKAN TASPEN  PEGANGSAAN DUA   \n",
       "1                               PNS DAERAH OTONOM           KAMAL   \n",
       "2                               PNS DAERAH OTONOM   PISANGAN BARU   \n",
       "3                               PNS DAERAH OTONOM        CIPAYUNG   \n",
       "4                               PNS DAERAH OTONOM    TELUK PUCUNG   \n",
       "...                                           ...             ...   \n",
       "49995                                   PNS PUSAT     DKI JAKARTA   \n",
       "49996                                   PNS PUSAT        JATIRASA   \n",
       "49997                                   PNS PUSAT     DKI JAKARTA   \n",
       "49998                                   PNS PUSAT        PAKUALAM   \n",
       "49999                           PNS DAERAH OTONOM     DKI JAKARTA   \n",
       "\n",
       "          NAMA_DATI3           NAMA_DATI2 UMUR  \n",
       "0      KELAPA GADING        JAKARTA UTARA   60  \n",
       "1          KALIDERES        JAKARTA BARAT   63  \n",
       "2           MATRAMAN        JAKARTA TIMUR   66  \n",
       "3           CIPAYUNG        JAKARTA TIMUR   63  \n",
       "4       BEKASI UTARA          KOTA BEKASI   66  \n",
       "...              ...                  ...  ...  \n",
       "49995    DKI JAKARTA          DKI JAKARTA   51  \n",
       "49996       JATIASIH          KOTA BEKASI   28  \n",
       "49997    DKI JAKARTA          DKI JAKARTA   30  \n",
       "49998  SERPONG UTARA  KABUPATEN TANGERANG   27  \n",
       "49999    DKI JAKARTA          DKI JAKARTA   50  \n",
       "\n",
       "[49995 rows x 21 columns]"
      ]
     },
     "execution_count": 304,
     "metadata": {},
     "output_type": "execute_result"
    }
   ],
   "source": [
    "data_new"
   ]
  },
  {
   "cell_type": "code",
   "execution_count": 305,
   "metadata": {},
   "outputs": [],
   "source": [
    "# code here\n",
    "kolom = ['BUP','JMLISTRI','JMLANAK','THP','MASKER','UMUR']\n",
    "data_mod = data_new[kolom]"
   ]
  },
  {
   "cell_type": "code",
   "execution_count": 317,
   "metadata": {
    "scrolled": true
   },
   "outputs": [
    {
     "data": {
      "text/plain": [
       "BUP         float64\n",
       "JMLISTRI    float64\n",
       "JMLANAK     float64\n",
       "THP         float64\n",
       "MASKER      float64\n",
       "UMUR        float64\n",
       "dtype: object"
      ]
     },
     "execution_count": 317,
     "metadata": {},
     "output_type": "execute_result"
    }
   ],
   "source": [
    "# code here\n",
    "data_mod.dtypes"
   ]
  },
  {
   "cell_type": "code",
   "execution_count": 307,
   "metadata": {},
   "outputs": [
    {
     "data": {
      "text/plain": [
       "BUP            0\n",
       "JMLISTRI       0\n",
       "JMLANAK        0\n",
       "THP            0\n",
       "MASKER      2355\n",
       "UMUR           0\n",
       "dtype: int64"
      ]
     },
     "execution_count": 307,
     "metadata": {},
     "output_type": "execute_result"
    }
   ],
   "source": [
    "data_mod.isna().sum()"
   ]
  },
  {
   "cell_type": "code",
   "execution_count": 308,
   "metadata": {},
   "outputs": [
    {
     "data": {
      "text/plain": [
       "4.9433249370277075"
      ]
     },
     "execution_count": 308,
     "metadata": {},
     "output_type": "execute_result"
    }
   ],
   "source": [
    "data_mod['MASKER'].isna().sum() / data_mod['MASKER'].count() * 100"
   ]
  },
  {
   "cell_type": "code",
   "execution_count": 311,
   "metadata": {},
   "outputs": [
    {
     "data": {
      "text/plain": [
       "(47640, 6)"
      ]
     },
     "execution_count": 311,
     "metadata": {},
     "output_type": "execute_result"
    }
   ],
   "source": [
    "data_mod = data_mod.dropna(how='any')\n",
    "data_mod.shape"
   ]
  },
  {
   "cell_type": "code",
   "execution_count": 312,
   "metadata": {
    "scrolled": true
   },
   "outputs": [
    {
     "data": {
      "text/html": [
       "<div>\n",
       "<style scoped>\n",
       "    .dataframe tbody tr th:only-of-type {\n",
       "        vertical-align: middle;\n",
       "    }\n",
       "\n",
       "    .dataframe tbody tr th {\n",
       "        vertical-align: top;\n",
       "    }\n",
       "\n",
       "    .dataframe thead th {\n",
       "        text-align: right;\n",
       "    }\n",
       "</style>\n",
       "<table border=\"1\" class=\"dataframe\">\n",
       "  <thead>\n",
       "    <tr style=\"text-align: right;\">\n",
       "      <th></th>\n",
       "      <th>BUP</th>\n",
       "      <th>JMLISTRI</th>\n",
       "      <th>JMLANAK</th>\n",
       "      <th>THP</th>\n",
       "      <th>MASKER</th>\n",
       "      <th>UMUR</th>\n",
       "    </tr>\n",
       "  </thead>\n",
       "  <tbody>\n",
       "    <tr>\n",
       "      <th>0</th>\n",
       "      <td>62.0</td>\n",
       "      <td>1</td>\n",
       "      <td>2</td>\n",
       "      <td>4415220</td>\n",
       "      <td>17.0</td>\n",
       "      <td>60</td>\n",
       "    </tr>\n",
       "    <tr>\n",
       "      <th>1</th>\n",
       "      <td>58.0</td>\n",
       "      <td>1</td>\n",
       "      <td>1</td>\n",
       "      <td>5170592</td>\n",
       "      <td>30.0</td>\n",
       "      <td>63</td>\n",
       "    </tr>\n",
       "    <tr>\n",
       "      <th>2</th>\n",
       "      <td>58.0</td>\n",
       "      <td>1</td>\n",
       "      <td>0</td>\n",
       "      <td>3422760</td>\n",
       "      <td>30.0</td>\n",
       "      <td>66</td>\n",
       "    </tr>\n",
       "    <tr>\n",
       "      <th>3</th>\n",
       "      <td>58.0</td>\n",
       "      <td>1</td>\n",
       "      <td>1</td>\n",
       "      <td>4473280</td>\n",
       "      <td>26.0</td>\n",
       "      <td>63</td>\n",
       "    </tr>\n",
       "    <tr>\n",
       "      <th>4</th>\n",
       "      <td>58.0</td>\n",
       "      <td>1</td>\n",
       "      <td>2</td>\n",
       "      <td>2720704</td>\n",
       "      <td>23.0</td>\n",
       "      <td>66</td>\n",
       "    </tr>\n",
       "    <tr>\n",
       "      <th>...</th>\n",
       "      <td>...</td>\n",
       "      <td>...</td>\n",
       "      <td>...</td>\n",
       "      <td>...</td>\n",
       "      <td>...</td>\n",
       "      <td>...</td>\n",
       "    </tr>\n",
       "    <tr>\n",
       "      <th>49995</th>\n",
       "      <td>58.0</td>\n",
       "      <td>1</td>\n",
       "      <td>1</td>\n",
       "      <td>4601072</td>\n",
       "      <td>23.0</td>\n",
       "      <td>51</td>\n",
       "    </tr>\n",
       "    <tr>\n",
       "      <th>49996</th>\n",
       "      <td>58.0</td>\n",
       "      <td>0</td>\n",
       "      <td>0</td>\n",
       "      <td>2660700</td>\n",
       "      <td>3.0</td>\n",
       "      <td>28</td>\n",
       "    </tr>\n",
       "    <tr>\n",
       "      <th>49997</th>\n",
       "      <td>58.0</td>\n",
       "      <td>1</td>\n",
       "      <td>1</td>\n",
       "      <td>3073840</td>\n",
       "      <td>5.0</td>\n",
       "      <td>30</td>\n",
       "    </tr>\n",
       "    <tr>\n",
       "      <th>49998</th>\n",
       "      <td>58.0</td>\n",
       "      <td>0</td>\n",
       "      <td>0</td>\n",
       "      <td>2660700</td>\n",
       "      <td>3.0</td>\n",
       "      <td>27</td>\n",
       "    </tr>\n",
       "    <tr>\n",
       "      <th>49999</th>\n",
       "      <td>58.0</td>\n",
       "      <td>1</td>\n",
       "      <td>1</td>\n",
       "      <td>4460512</td>\n",
       "      <td>21.0</td>\n",
       "      <td>50</td>\n",
       "    </tr>\n",
       "  </tbody>\n",
       "</table>\n",
       "<p>47640 rows × 6 columns</p>\n",
       "</div>"
      ],
      "text/plain": [
       "        BUP  JMLISTRI  JMLANAK      THP  MASKER  UMUR\n",
       "0      62.0         1        2  4415220    17.0    60\n",
       "1      58.0         1        1  5170592    30.0    63\n",
       "2      58.0         1        0  3422760    30.0    66\n",
       "3      58.0         1        1  4473280    26.0    63\n",
       "4      58.0         1        2  2720704    23.0    66\n",
       "...     ...       ...      ...      ...     ...   ...\n",
       "49995  58.0         1        1  4601072    23.0    51\n",
       "49996  58.0         0        0  2660700     3.0    28\n",
       "49997  58.0         1        1  3073840     5.0    30\n",
       "49998  58.0         0        0  2660700     3.0    27\n",
       "49999  58.0         1        1  4460512    21.0    50\n",
       "\n",
       "[47640 rows x 6 columns]"
      ]
     },
     "execution_count": 312,
     "metadata": {},
     "output_type": "execute_result"
    }
   ],
   "source": [
    "data_mod"
   ]
  },
  {
   "cell_type": "markdown",
   "metadata": {},
   "source": [
    "* **Data Preprocessing and Exploratory Data Analysis** (*4 points*)\n",
    "\n",
    "    * Do you need to normalize the data?\n",
    "    * Do you need to scale the variables?\n",
    "    * Other insight you have found."
   ]
  },
  {
   "cell_type": "code",
   "execution_count": 374,
   "metadata": {},
   "outputs": [
    {
     "data": {
      "text/html": [
       "<div>\n",
       "<style scoped>\n",
       "    .dataframe tbody tr th:only-of-type {\n",
       "        vertical-align: middle;\n",
       "    }\n",
       "\n",
       "    .dataframe tbody tr th {\n",
       "        vertical-align: top;\n",
       "    }\n",
       "\n",
       "    .dataframe thead tr th {\n",
       "        text-align: left;\n",
       "    }\n",
       "</style>\n",
       "<table border=\"1\" class=\"dataframe\">\n",
       "  <thead>\n",
       "    <tr>\n",
       "      <th></th>\n",
       "      <th>BUP</th>\n",
       "      <th>JMLISTRI</th>\n",
       "      <th>JMLANAK</th>\n",
       "      <th>THP</th>\n",
       "      <th>MASKER</th>\n",
       "      <th>UMUR</th>\n",
       "    </tr>\n",
       "  </thead>\n",
       "  <tbody>\n",
       "    <tr>\n",
       "      <th>0</th>\n",
       "      <td>1.025029</td>\n",
       "      <td>0.636053</td>\n",
       "      <td>1.550286</td>\n",
       "      <td>0.701786</td>\n",
       "      <td>-0.480439</td>\n",
       "      <td>0.492418</td>\n",
       "    </tr>\n",
       "    <tr>\n",
       "      <th>1</th>\n",
       "      <td>-0.064931</td>\n",
       "      <td>0.636053</td>\n",
       "      <td>0.345896</td>\n",
       "      <td>1.452503</td>\n",
       "      <td>1.002217</td>\n",
       "      <td>0.718164</td>\n",
       "    </tr>\n",
       "    <tr>\n",
       "      <th>2</th>\n",
       "      <td>-0.064931</td>\n",
       "      <td>0.636053</td>\n",
       "      <td>-0.858495</td>\n",
       "      <td>-0.284558</td>\n",
       "      <td>1.002217</td>\n",
       "      <td>0.943910</td>\n",
       "    </tr>\n",
       "    <tr>\n",
       "      <th>3</th>\n",
       "      <td>-0.064931</td>\n",
       "      <td>0.636053</td>\n",
       "      <td>0.345896</td>\n",
       "      <td>0.759488</td>\n",
       "      <td>0.546015</td>\n",
       "      <td>0.718164</td>\n",
       "    </tr>\n",
       "    <tr>\n",
       "      <th>4</th>\n",
       "      <td>-0.064931</td>\n",
       "      <td>0.636053</td>\n",
       "      <td>1.550286</td>\n",
       "      <td>-0.982288</td>\n",
       "      <td>0.203864</td>\n",
       "      <td>0.943910</td>\n",
       "    </tr>\n",
       "  </tbody>\n",
       "</table>\n",
       "</div>"
      ],
      "text/plain": [
       "        BUP  JMLISTRI   JMLANAK       THP    MASKER      UMUR\n",
       "0  1.025029  0.636053  1.550286  0.701786 -0.480439  0.492418\n",
       "1 -0.064931  0.636053  0.345896  1.452503  1.002217  0.718164\n",
       "2 -0.064931  0.636053 -0.858495 -0.284558  1.002217  0.943910\n",
       "3 -0.064931  0.636053  0.345896  0.759488  0.546015  0.718164\n",
       "4 -0.064931  0.636053  1.550286 -0.982288  0.203864  0.943910"
      ]
     },
     "execution_count": 374,
     "metadata": {},
     "output_type": "execute_result"
    }
   ],
   "source": [
    "# code here\n",
    "data_scaled = StandardScaler().fit_transform(data_mod.values)\n",
    "cols = ['BUP','JMLISTRI','JMLANAK','THP','MASKER', 'UMUR']\n",
    "data_scaled = pd.DataFrame(data_scaled, columns=[cols])\n",
    "data_scaled.head()"
   ]
  },
  {
   "cell_type": "code",
   "execution_count": 375,
   "metadata": {
    "scrolled": false
   },
   "outputs": [
    {
     "data": {
      "text/html": [
       "<div>\n",
       "<style scoped>\n",
       "    .dataframe tbody tr th:only-of-type {\n",
       "        vertical-align: middle;\n",
       "    }\n",
       "\n",
       "    .dataframe tbody tr th {\n",
       "        vertical-align: top;\n",
       "    }\n",
       "\n",
       "    .dataframe thead tr th {\n",
       "        text-align: left;\n",
       "    }\n",
       "</style>\n",
       "<table border=\"1\" class=\"dataframe\">\n",
       "  <thead>\n",
       "    <tr>\n",
       "      <th></th>\n",
       "      <th>BUP</th>\n",
       "      <th>JMLISTRI</th>\n",
       "      <th>JMLANAK</th>\n",
       "      <th>THP</th>\n",
       "      <th>MASKER</th>\n",
       "      <th>UMUR</th>\n",
       "    </tr>\n",
       "  </thead>\n",
       "  <tbody>\n",
       "    <tr>\n",
       "      <th>BUP</th>\n",
       "      <td>1.000021</td>\n",
       "      <td>0.025992</td>\n",
       "      <td>-0.026838</td>\n",
       "      <td>0.051994</td>\n",
       "      <td>0.218918</td>\n",
       "      <td>0.047328</td>\n",
       "    </tr>\n",
       "    <tr>\n",
       "      <th>JMLISTRI</th>\n",
       "      <td>0.025992</td>\n",
       "      <td>1.000021</td>\n",
       "      <td>0.467677</td>\n",
       "      <td>0.253523</td>\n",
       "      <td>0.112025</td>\n",
       "      <td>0.060044</td>\n",
       "    </tr>\n",
       "    <tr>\n",
       "      <th>JMLANAK</th>\n",
       "      <td>-0.026838</td>\n",
       "      <td>0.467677</td>\n",
       "      <td>1.000021</td>\n",
       "      <td>0.056312</td>\n",
       "      <td>-0.200543</td>\n",
       "      <td>-0.264677</td>\n",
       "    </tr>\n",
       "    <tr>\n",
       "      <th>THP</th>\n",
       "      <td>0.051994</td>\n",
       "      <td>0.253523</td>\n",
       "      <td>0.056312</td>\n",
       "      <td>1.000021</td>\n",
       "      <td>0.500405</td>\n",
       "      <td>0.213605</td>\n",
       "    </tr>\n",
       "    <tr>\n",
       "      <th>MASKER</th>\n",
       "      <td>0.218918</td>\n",
       "      <td>0.112025</td>\n",
       "      <td>-0.200543</td>\n",
       "      <td>0.500405</td>\n",
       "      <td>1.000021</td>\n",
       "      <td>0.824278</td>\n",
       "    </tr>\n",
       "    <tr>\n",
       "      <th>UMUR</th>\n",
       "      <td>0.047328</td>\n",
       "      <td>0.060044</td>\n",
       "      <td>-0.264677</td>\n",
       "      <td>0.213605</td>\n",
       "      <td>0.824278</td>\n",
       "      <td>1.000021</td>\n",
       "    </tr>\n",
       "  </tbody>\n",
       "</table>\n",
       "</div>"
      ],
      "text/plain": [
       "               BUP  JMLISTRI   JMLANAK       THP    MASKER      UMUR\n",
       "BUP       1.000021  0.025992 -0.026838  0.051994  0.218918  0.047328\n",
       "JMLISTRI  0.025992  1.000021  0.467677  0.253523  0.112025  0.060044\n",
       "JMLANAK  -0.026838  0.467677  1.000021  0.056312 -0.200543 -0.264677\n",
       "THP       0.051994  0.253523  0.056312  1.000021  0.500405  0.213605\n",
       "MASKER    0.218918  0.112025 -0.200543  0.500405  1.000021  0.824278\n",
       "UMUR      0.047328  0.060044 -0.264677  0.213605  0.824278  1.000021"
      ]
     },
     "execution_count": 375,
     "metadata": {},
     "output_type": "execute_result"
    }
   ],
   "source": [
    "# code here\n",
    "data_scaled.cov()"
   ]
  },
  {
   "cell_type": "markdown",
   "metadata": {},
   "source": [
    "* **Model Fitting and Evaluation** (*8 points*)\n",
    "\n",
    "    * What model do you use?\n",
    "    * Do you need to preprocess data with PCA model?"
   ]
  },
  {
   "cell_type": "code",
   "execution_count": 376,
   "metadata": {},
   "outputs": [],
   "source": [
    "# PCA Visualization\n",
    "prop_small = data_scaled.head(300)"
   ]
  },
  {
   "cell_type": "code",
   "execution_count": 377,
   "metadata": {},
   "outputs": [
    {
     "data": {
      "text/plain": [
       "PCA(n_components=6, svd_solver='full')"
      ]
     },
     "execution_count": 377,
     "metadata": {},
     "output_type": "execute_result"
    }
   ],
   "source": [
    "pca_small = PCA(n_components = 6, svd_solver='full')\n",
    "\n",
    "pca_small.fit(prop_small)"
   ]
  },
  {
   "cell_type": "code",
   "execution_count": 378,
   "metadata": {},
   "outputs": [
    {
     "data": {
      "image/png": "[encoded data removed]",
      "text/plain": [
       "<Figure size 576x396 with 1 Axes>"
      ]
     },
     "metadata": {},
     "output_type": "display_data"
    }
   ],
   "source": [
    "biplot_pca(prop_small)"
   ]
  },
  {
   "cell_type": "code",
   "execution_count": 379,
   "metadata": {},
   "outputs": [],
   "source": [
    "#KMeans visualization\n",
    "np.random.seed(100)\n",
    "kmeans_ex = KMeans(n_clusters=5).fit(data_scaled)"
   ]
  },
  {
   "cell_type": "code",
   "execution_count": 380,
   "metadata": {},
   "outputs": [
    {
     "name": "stdout",
     "output_type": "stream",
     "text": [
      "[3 0 0 ... 3 1 0]\n"
     ]
    }
   ],
   "source": [
    "# code here\n",
    "label_ex = kmeans_ex.labels_\n",
    "print(label_ex)"
   ]
  },
  {
   "cell_type": "code",
   "execution_count": 381,
   "metadata": {},
   "outputs": [
    {
     "data": {
      "image/png": "[encoded data removed]",
      "text/plain": [
       "<Figure size 576x396 with 1 Axes>"
      ]
     },
     "metadata": {},
     "output_type": "display_data"
    }
   ],
   "source": [
    "# code here\n",
    "\n",
    "biplot_kmeans(data_scaled, 5, feature_name=False)"
   ]
  },
  {
   "cell_type": "markdown",
   "metadata": {},
   "source": [
    "* **Model Tuning** (*8 points*)\n",
    "    * Build at least 2 models or build a model then tune the parameter later.\n",
    "    * If the model is not satisfactory, what will you do to tune the model?\n",
    "    * How many `k` do you use for clustering model?\n",
    "    * Compare goodness of fit value for your model"
   ]
  },
  {
   "cell_type": "code",
   "execution_count": 383,
   "metadata": {},
   "outputs": [
    {
     "data": {
      "text/plain": [
       "93812.2593029052"
      ]
     },
     "execution_count": 383,
     "metadata": {},
     "output_type": "execute_result"
    }
   ],
   "source": [
    "#Goodness of fit:\n",
    "WCSS_ex = kmeans_ex.inertia_\n",
    "WCSS_ex    "
   ]
  },
  {
   "cell_type": "code",
   "execution_count": 384,
   "metadata": {},
   "outputs": [
    {
     "data": {
      "text/plain": [
       "192020.73119175137"
      ]
     },
     "execution_count": 384,
     "metadata": {},
     "output_type": "execute_result"
    }
   ],
   "source": [
    "BCSS_ex = BCSS(data_scaled.values,kmeans_ex)\n",
    "BCSS_ex"
   ]
  },
  {
   "cell_type": "code",
   "execution_count": 369,
   "metadata": {},
   "outputs": [],
   "source": [
    "TCSS_ex = WCSS_ex + BCSS_ex"
   ]
  },
  {
   "cell_type": "code",
   "execution_count": 385,
   "metadata": {},
   "outputs": [
    {
     "data": {
      "text/plain": [
       "67.17934513417936"
      ]
     },
     "execution_count": 385,
     "metadata": {},
     "output_type": "execute_result"
    }
   ],
   "source": [
    "Exp_Var_ex = (BCSS_ex/TCSS_ex)*100\n",
    "Exp_Var_ex"
   ]
  },
  {
   "cell_type": "code",
   "execution_count": 386,
   "metadata": {},
   "outputs": [
    {
     "name": "stdout",
     "output_type": "stream",
     "text": [
      "WCSS :  93812.2593029052\n",
      "BCSS :  192020.73119175137\n",
      "TCSS :  285832.9904946565\n",
      "Explained Variance:  67.17934513417936\n"
     ]
    }
   ],
   "source": [
    "print(\"WCSS : \", WCSS_ex)\n",
    "print(\"BCSS : \", BCSS_ex)\n",
    "print(\"TCSS : \", TCSS_ex)\n",
    "print(\"Explained Variance: \", Exp_Var_ex)"
   ]
  },
  {
   "cell_type": "code",
   "execution_count": 387,
   "metadata": {},
   "outputs": [
    {
     "data": {
      "text/plain": [
       "25"
      ]
     },
     "execution_count": 387,
     "metadata": {},
     "output_type": "execute_result"
    }
   ],
   "source": [
    "#Melihat jumlah iterasi yang terjadi\n",
    "kmeans_ex.n_iter_"
   ]
  },
  {
   "cell_type": "code",
   "execution_count": 388,
   "metadata": {},
   "outputs": [
    {
     "data": {
      "image/png": "[encoded data removed]",
      "text/plain": [
       "<Figure size 576x396 with 1 Axes>"
      ]
     },
     "metadata": {},
     "output_type": "display_data"
    }
   ],
   "source": [
    "#Pemilihan K Optimum\n",
    "\n",
    "plot_elbow(data_scaled)"
   ]
  },
  {
   "cell_type": "markdown",
   "metadata": {},
   "source": []
  },
  {
   "cell_type": "code",
   "execution_count": 347,
   "metadata": {},
   "outputs": [],
   "source": [
    "# code here\n"
   ]
  },
  {
   "cell_type": "markdown",
   "metadata": {},
   "source": [
    "* **Build Customer Profiling** (*8 points*)\n",
    "    * What is characteristic of your customers?\n",
    "    * Have you found special insight from your customers profile?\n",
    "    * What is actionable plan you can formulate based on your characteristic customers?"
   ]
  },
  {
   "cell_type": "code",
   "execution_count": 397,
   "metadata": {},
   "outputs": [
    {
     "data": {
      "text/html": [
       "<div>\n",
       "<style scoped>\n",
       "    .dataframe tbody tr th:only-of-type {\n",
       "        vertical-align: middle;\n",
       "    }\n",
       "\n",
       "    .dataframe tbody tr th {\n",
       "        vertical-align: top;\n",
       "    }\n",
       "\n",
       "    .dataframe thead tr th {\n",
       "        text-align: left;\n",
       "    }\n",
       "</style>\n",
       "<table border=\"1\" class=\"dataframe\">\n",
       "  <thead>\n",
       "    <tr>\n",
       "      <th></th>\n",
       "      <th>BUP</th>\n",
       "      <th>JMLISTRI</th>\n",
       "      <th>JMLANAK</th>\n",
       "      <th>THP</th>\n",
       "      <th>MASKER</th>\n",
       "      <th>UMUR</th>\n",
       "    </tr>\n",
       "  </thead>\n",
       "  <tbody>\n",
       "    <tr>\n",
       "      <th>0</th>\n",
       "      <td>1.025029</td>\n",
       "      <td>0.636053</td>\n",
       "      <td>1.550286</td>\n",
       "      <td>0.701786</td>\n",
       "      <td>-0.480439</td>\n",
       "      <td>0.492418</td>\n",
       "    </tr>\n",
       "    <tr>\n",
       "      <th>1</th>\n",
       "      <td>-0.064931</td>\n",
       "      <td>0.636053</td>\n",
       "      <td>0.345896</td>\n",
       "      <td>1.452503</td>\n",
       "      <td>1.002217</td>\n",
       "      <td>0.718164</td>\n",
       "    </tr>\n",
       "    <tr>\n",
       "      <th>2</th>\n",
       "      <td>-0.064931</td>\n",
       "      <td>0.636053</td>\n",
       "      <td>-0.858495</td>\n",
       "      <td>-0.284558</td>\n",
       "      <td>1.002217</td>\n",
       "      <td>0.943910</td>\n",
       "    </tr>\n",
       "    <tr>\n",
       "      <th>3</th>\n",
       "      <td>-0.064931</td>\n",
       "      <td>0.636053</td>\n",
       "      <td>0.345896</td>\n",
       "      <td>0.759488</td>\n",
       "      <td>0.546015</td>\n",
       "      <td>0.718164</td>\n",
       "    </tr>\n",
       "    <tr>\n",
       "      <th>4</th>\n",
       "      <td>-0.064931</td>\n",
       "      <td>0.636053</td>\n",
       "      <td>1.550286</td>\n",
       "      <td>-0.982288</td>\n",
       "      <td>0.203864</td>\n",
       "      <td>0.943910</td>\n",
       "    </tr>\n",
       "  </tbody>\n",
       "</table>\n",
       "</div>"
      ],
      "text/plain": [
       "        BUP  JMLISTRI   JMLANAK       THP    MASKER      UMUR\n",
       "0  1.025029  0.636053  1.550286  0.701786 -0.480439  0.492418\n",
       "1 -0.064931  0.636053  0.345896  1.452503  1.002217  0.718164\n",
       "2 -0.064931  0.636053 -0.858495 -0.284558  1.002217  0.943910\n",
       "3 -0.064931  0.636053  0.345896  0.759488  0.546015  0.718164\n",
       "4 -0.064931  0.636053  1.550286 -0.982288  0.203864  0.943910"
      ]
     },
     "execution_count": 397,
     "metadata": {},
     "output_type": "execute_result"
    }
   ],
   "source": [
    "# code here\n",
    "data_mod.head()\n"
   ]
  },
  {
   "cell_type": "code",
   "execution_count": 400,
   "metadata": {
    "scrolled": true
   },
   "outputs": [
    {
     "ename": "NameError",
     "evalue": "name 'label' is not defined",
     "output_type": "error",
     "traceback": [
      "\u001b[1;31m---------------------------------------------------------------------------\u001b[0m",
      "\u001b[1;31mNameError\u001b[0m                                 Traceback (most recent call last)",
      "\u001b[1;32mC:\\Users\\RIZAL3~1\\AppData\\Local\\Temp/ipykernel_25036/887579487.py\u001b[0m in \u001b[0;36m<module>\u001b[1;34m\u001b[0m\n\u001b[0;32m      1\u001b[0m \u001b[1;31m# code here\u001b[0m\u001b[1;33m\u001b[0m\u001b[1;33m\u001b[0m\u001b[1;33m\u001b[0m\u001b[0m\n\u001b[0;32m      2\u001b[0m \u001b[0mdata_clustered\u001b[0m \u001b[1;33m=\u001b[0m \u001b[0mdata_mod\u001b[0m\u001b[1;33m.\u001b[0m\u001b[0mcopy\u001b[0m\u001b[1;33m(\u001b[0m\u001b[1;33m)\u001b[0m\u001b[1;33m\u001b[0m\u001b[1;33m\u001b[0m\u001b[0m\n\u001b[1;32m----> 3\u001b[1;33m \u001b[0mdata_clustered\u001b[0m\u001b[1;33m[\u001b[0m\u001b[1;34m'label'\u001b[0m\u001b[1;33m]\u001b[0m \u001b[1;33m=\u001b[0m \u001b[0mlist\u001b[0m\u001b[1;33m(\u001b[0m\u001b[0mlabel\u001b[0m\u001b[1;33m)\u001b[0m\u001b[1;33m\u001b[0m\u001b[1;33m\u001b[0m\u001b[0m\n\u001b[0m\u001b[0;32m      4\u001b[0m \u001b[1;31m#data_clustered.columns = ['BUP','JMLISTRI','JMLANAK','THP','MASKER', 'UMUR', 'label']\u001b[0m\u001b[1;33m\u001b[0m\u001b[1;33m\u001b[0m\u001b[1;33m\u001b[0m\u001b[0m\n\u001b[0;32m      5\u001b[0m \u001b[1;31m# data_clustered.shape\u001b[0m\u001b[1;33m\u001b[0m\u001b[1;33m\u001b[0m\u001b[1;33m\u001b[0m\u001b[0m\n",
      "\u001b[1;31mNameError\u001b[0m: name 'label' is not defined"
     ]
    }
   ],
   "source": [
    "# code here\n",
    "data_clustered = data_mod.copy()\n",
    "data_clustered['label'] = list(label)\n",
    "# data_clustered.columns = ['BUP','JMLISTRI','JMLANAK','THP','MASKER', 'UMUR', 'label']\n",
    "# data_clustered.shape"
   ]
  },
  {
   "cell_type": "code",
   "execution_count": 401,
   "metadata": {
    "scrolled": true
   },
   "outputs": [
    {
     "data": {
      "text/html": [
       "<div>\n",
       "<style scoped>\n",
       "    .dataframe tbody tr th:only-of-type {\n",
       "        vertical-align: middle;\n",
       "    }\n",
       "\n",
       "    .dataframe tbody tr th {\n",
       "        vertical-align: top;\n",
       "    }\n",
       "\n",
       "    .dataframe thead tr th {\n",
       "        text-align: left;\n",
       "    }\n",
       "</style>\n",
       "<table border=\"1\" class=\"dataframe\">\n",
       "  <thead>\n",
       "    <tr>\n",
       "      <th></th>\n",
       "      <th>BUP</th>\n",
       "      <th>JMLISTRI</th>\n",
       "      <th>JMLANAK</th>\n",
       "      <th>THP</th>\n",
       "      <th>MASKER</th>\n",
       "      <th>UMUR</th>\n",
       "    </tr>\n",
       "  </thead>\n",
       "  <tbody>\n",
       "    <tr>\n",
       "      <th>0</th>\n",
       "      <td>1.025029</td>\n",
       "      <td>0.636053</td>\n",
       "      <td>1.550286</td>\n",
       "      <td>0.701786</td>\n",
       "      <td>-0.480439</td>\n",
       "      <td>0.492418</td>\n",
       "    </tr>\n",
       "    <tr>\n",
       "      <th>1</th>\n",
       "      <td>-0.064931</td>\n",
       "      <td>0.636053</td>\n",
       "      <td>0.345896</td>\n",
       "      <td>1.452503</td>\n",
       "      <td>1.002217</td>\n",
       "      <td>0.718164</td>\n",
       "    </tr>\n",
       "    <tr>\n",
       "      <th>2</th>\n",
       "      <td>-0.064931</td>\n",
       "      <td>0.636053</td>\n",
       "      <td>-0.858495</td>\n",
       "      <td>-0.284558</td>\n",
       "      <td>1.002217</td>\n",
       "      <td>0.943910</td>\n",
       "    </tr>\n",
       "    <tr>\n",
       "      <th>3</th>\n",
       "      <td>-0.064931</td>\n",
       "      <td>0.636053</td>\n",
       "      <td>0.345896</td>\n",
       "      <td>0.759488</td>\n",
       "      <td>0.546015</td>\n",
       "      <td>0.718164</td>\n",
       "    </tr>\n",
       "    <tr>\n",
       "      <th>4</th>\n",
       "      <td>-0.064931</td>\n",
       "      <td>0.636053</td>\n",
       "      <td>1.550286</td>\n",
       "      <td>-0.982288</td>\n",
       "      <td>0.203864</td>\n",
       "      <td>0.943910</td>\n",
       "    </tr>\n",
       "  </tbody>\n",
       "</table>\n",
       "</div>"
      ],
      "text/plain": [
       "        BUP  JMLISTRI   JMLANAK       THP    MASKER      UMUR\n",
       "0  1.025029  0.636053  1.550286  0.701786 -0.480439  0.492418\n",
       "1 -0.064931  0.636053  0.345896  1.452503  1.002217  0.718164\n",
       "2 -0.064931  0.636053 -0.858495 -0.284558  1.002217  0.943910\n",
       "3 -0.064931  0.636053  0.345896  0.759488  0.546015  0.718164\n",
       "4 -0.064931  0.636053  1.550286 -0.982288  0.203864  0.943910"
      ]
     },
     "execution_count": 401,
     "metadata": {},
     "output_type": "execute_result"
    }
   ],
   "source": [
    "data_clustered.head()"
   ]
  },
  {
   "cell_type": "code",
   "execution_count": 403,
   "metadata": {
    "scrolled": true
   },
   "outputs": [
    {
     "data": {
      "image/png": "[encoded data removed]",
      "text/plain": [
       "<Figure size 576x396 with 1 Axes>"
      ]
     },
     "metadata": {},
     "output_type": "display_data"
    }
   ],
   "source": [
    "biplot_kmeans(data_scaled, 6, feature_name=True)"
   ]
  },
  {
   "cell_type": "code",
   "execution_count": 402,
   "metadata": {
    "scrolled": true
   },
   "outputs": [
    {
     "ename": "KeyError",
     "evalue": "'label'",
     "output_type": "error",
     "traceback": [
      "\u001b[1;31m---------------------------------------------------------------------------\u001b[0m",
      "\u001b[1;31mKeyError\u001b[0m                                  Traceback (most recent call last)",
      "\u001b[1;32mC:\\Users\\RIZAL3~1\\AppData\\Local\\Temp/ipykernel_25036/2026609853.py\u001b[0m in \u001b[0;36m<module>\u001b[1;34m\u001b[0m\n\u001b[1;32m----> 1\u001b[1;33m \u001b[0mdata_clustered\u001b[0m\u001b[1;33m.\u001b[0m\u001b[0mgroupby\u001b[0m\u001b[1;33m(\u001b[0m\u001b[1;34m'label'\u001b[0m\u001b[1;33m)\u001b[0m\u001b[1;33m.\u001b[0m\u001b[0mmean\u001b[0m\u001b[1;33m(\u001b[0m\u001b[1;33m)\u001b[0m\u001b[1;33m\u001b[0m\u001b[1;33m\u001b[0m\u001b[0m\n\u001b[0m",
      "\u001b[1;32m~\\Anaconda3\\envs\\taspen\\lib\\site-packages\\pandas\\core\\frame.py\u001b[0m in \u001b[0;36mgroupby\u001b[1;34m(self, by, axis, level, as_index, sort, group_keys, squeeze, observed, dropna)\u001b[0m\n\u001b[0;32m   7624\u001b[0m         \u001b[1;31m# error: Argument \"squeeze\" to \"DataFrameGroupBy\" has incompatible type\u001b[0m\u001b[1;33m\u001b[0m\u001b[1;33m\u001b[0m\u001b[1;33m\u001b[0m\u001b[0m\n\u001b[0;32m   7625\u001b[0m         \u001b[1;31m# \"Union[bool, NoDefault]\"; expected \"bool\"\u001b[0m\u001b[1;33m\u001b[0m\u001b[1;33m\u001b[0m\u001b[1;33m\u001b[0m\u001b[0m\n\u001b[1;32m-> 7626\u001b[1;33m         return DataFrameGroupBy(\n\u001b[0m\u001b[0;32m   7627\u001b[0m             \u001b[0mobj\u001b[0m\u001b[1;33m=\u001b[0m\u001b[0mself\u001b[0m\u001b[1;33m,\u001b[0m\u001b[1;33m\u001b[0m\u001b[1;33m\u001b[0m\u001b[0m\n\u001b[0;32m   7628\u001b[0m             \u001b[0mkeys\u001b[0m\u001b[1;33m=\u001b[0m\u001b[0mby\u001b[0m\u001b[1;33m,\u001b[0m\u001b[1;33m\u001b[0m\u001b[1;33m\u001b[0m\u001b[0m\n",
      "\u001b[1;32m~\\Anaconda3\\envs\\taspen\\lib\\site-packages\\pandas\\core\\groupby\\groupby.py\u001b[0m in \u001b[0;36m__init__\u001b[1;34m(self, obj, keys, axis, level, grouper, exclusions, selection, as_index, sort, group_keys, squeeze, observed, mutated, dropna)\u001b[0m\n\u001b[0;32m    886\u001b[0m             \u001b[1;32mfrom\u001b[0m \u001b[0mpandas\u001b[0m\u001b[1;33m.\u001b[0m\u001b[0mcore\u001b[0m\u001b[1;33m.\u001b[0m\u001b[0mgroupby\u001b[0m\u001b[1;33m.\u001b[0m\u001b[0mgrouper\u001b[0m \u001b[1;32mimport\u001b[0m \u001b[0mget_grouper\u001b[0m\u001b[1;33m\u001b[0m\u001b[1;33m\u001b[0m\u001b[0m\n\u001b[0;32m    887\u001b[0m \u001b[1;33m\u001b[0m\u001b[0m\n\u001b[1;32m--> 888\u001b[1;33m             grouper, exclusions, obj = get_grouper(\n\u001b[0m\u001b[0;32m    889\u001b[0m                 \u001b[0mobj\u001b[0m\u001b[1;33m,\u001b[0m\u001b[1;33m\u001b[0m\u001b[1;33m\u001b[0m\u001b[0m\n\u001b[0;32m    890\u001b[0m                 \u001b[0mkeys\u001b[0m\u001b[1;33m,\u001b[0m\u001b[1;33m\u001b[0m\u001b[1;33m\u001b[0m\u001b[0m\n",
      "\u001b[1;32m~\\Anaconda3\\envs\\taspen\\lib\\site-packages\\pandas\\core\\groupby\\grouper.py\u001b[0m in \u001b[0;36mget_grouper\u001b[1;34m(obj, key, axis, level, sort, observed, mutated, validate, dropna)\u001b[0m\n\u001b[0;32m    858\u001b[0m                 \u001b[0min_axis\u001b[0m\u001b[1;33m,\u001b[0m \u001b[0mlevel\u001b[0m\u001b[1;33m,\u001b[0m \u001b[0mgpr\u001b[0m \u001b[1;33m=\u001b[0m \u001b[1;32mFalse\u001b[0m\u001b[1;33m,\u001b[0m \u001b[0mgpr\u001b[0m\u001b[1;33m,\u001b[0m \u001b[1;32mNone\u001b[0m\u001b[1;33m\u001b[0m\u001b[1;33m\u001b[0m\u001b[0m\n\u001b[0;32m    859\u001b[0m             \u001b[1;32melse\u001b[0m\u001b[1;33m:\u001b[0m\u001b[1;33m\u001b[0m\u001b[1;33m\u001b[0m\u001b[0m\n\u001b[1;32m--> 860\u001b[1;33m                 \u001b[1;32mraise\u001b[0m \u001b[0mKeyError\u001b[0m\u001b[1;33m(\u001b[0m\u001b[0mgpr\u001b[0m\u001b[1;33m)\u001b[0m\u001b[1;33m\u001b[0m\u001b[1;33m\u001b[0m\u001b[0m\n\u001b[0m\u001b[0;32m    861\u001b[0m         \u001b[1;32melif\u001b[0m \u001b[0misinstance\u001b[0m\u001b[1;33m(\u001b[0m\u001b[0mgpr\u001b[0m\u001b[1;33m,\u001b[0m \u001b[0mGrouper\u001b[0m\u001b[1;33m)\u001b[0m \u001b[1;32mand\u001b[0m \u001b[0mgpr\u001b[0m\u001b[1;33m.\u001b[0m\u001b[0mkey\u001b[0m \u001b[1;32mis\u001b[0m \u001b[1;32mnot\u001b[0m \u001b[1;32mNone\u001b[0m\u001b[1;33m:\u001b[0m\u001b[1;33m\u001b[0m\u001b[1;33m\u001b[0m\u001b[0m\n\u001b[0;32m    862\u001b[0m             \u001b[1;31m# Add key to exclusions\u001b[0m\u001b[1;33m\u001b[0m\u001b[1;33m\u001b[0m\u001b[1;33m\u001b[0m\u001b[0m\n",
      "\u001b[1;31mKeyError\u001b[0m: 'label'"
     ]
    }
   ],
   "source": [
    "data_clustered.groupby('label').mean()"
   ]
  },
  {
   "cell_type": "code",
   "execution_count": 404,
   "metadata": {},
   "outputs": [
    {
     "ename": "NameError",
     "evalue": "name 'label' is not defined",
     "output_type": "error",
     "traceback": [
      "\u001b[1;31m---------------------------------------------------------------------------\u001b[0m",
      "\u001b[1;31mNameError\u001b[0m                                 Traceback (most recent call last)",
      "\u001b[1;32mC:\\Users\\RIZAL3~1\\AppData\\Local\\Temp/ipykernel_25036/840424094.py\u001b[0m in \u001b[0;36m<module>\u001b[1;34m\u001b[0m\n\u001b[0;32m      1\u001b[0m \u001b[0mdata_proviz\u001b[0m \u001b[1;33m=\u001b[0m \u001b[0mdata_scaled\u001b[0m\u001b[1;33m.\u001b[0m\u001b[0mcopy\u001b[0m\u001b[1;33m(\u001b[0m\u001b[1;33m)\u001b[0m\u001b[1;33m\u001b[0m\u001b[1;33m\u001b[0m\u001b[0m\n\u001b[1;32m----> 2\u001b[1;33m \u001b[0mdata_proviz\u001b[0m\u001b[1;33m[\u001b[0m\u001b[1;34m'label'\u001b[0m\u001b[1;33m]\u001b[0m \u001b[1;33m=\u001b[0m \u001b[0mlist\u001b[0m\u001b[1;33m(\u001b[0m\u001b[0mlabel\u001b[0m\u001b[1;33m)\u001b[0m\u001b[1;33m\u001b[0m\u001b[1;33m\u001b[0m\u001b[0m\n\u001b[0m\u001b[0;32m      3\u001b[0m \u001b[0mdata_proviz\u001b[0m\u001b[1;33m.\u001b[0m\u001b[0mcolumns\u001b[0m \u001b[1;33m=\u001b[0m \u001b[1;33m[\u001b[0m\u001b[1;34m'BUP'\u001b[0m\u001b[1;33m,\u001b[0m\u001b[1;34m'JMLISTRI'\u001b[0m\u001b[1;33m,\u001b[0m\u001b[1;34m'JMLANAK'\u001b[0m\u001b[1;33m,\u001b[0m\u001b[1;34m'THP'\u001b[0m\u001b[1;33m,\u001b[0m\u001b[1;34m'MASKER'\u001b[0m\u001b[1;33m,\u001b[0m \u001b[1;34m'UMUR'\u001b[0m\u001b[1;33m,\u001b[0m \u001b[1;34m'label'\u001b[0m\u001b[1;33m]\u001b[0m\u001b[1;33m\u001b[0m\u001b[1;33m\u001b[0m\u001b[0m\n\u001b[0;32m      4\u001b[0m \u001b[0mdata_proviz\u001b[0m\u001b[1;33m.\u001b[0m\u001b[0mshape\u001b[0m\u001b[1;33m\u001b[0m\u001b[1;33m\u001b[0m\u001b[0m\n",
      "\u001b[1;31mNameError\u001b[0m: name 'label' is not defined"
     ]
    }
   ],
   "source": [
    "data_proviz = data_scaled.copy()\n",
    "data_proviz['label'] = list(label)\n",
    "data_proviz.columns = ['BUP','JMLISTRI','JMLANAK','THP','MASKER', 'UMUR', 'label']\n",
    "data_proviz.shape"
   ]
  },
  {
   "cell_type": "code",
   "execution_count": 406,
   "metadata": {},
   "outputs": [
    {
     "ename": "KeyError",
     "evalue": "'label'",
     "output_type": "error",
     "traceback": [
      "\u001b[1;31m---------------------------------------------------------------------------\u001b[0m",
      "\u001b[1;31mKeyError\u001b[0m                                  Traceback (most recent call last)",
      "\u001b[1;32m~\\Anaconda3\\envs\\taspen\\lib\\site-packages\\pandas\\core\\indexes\\base.py\u001b[0m in \u001b[0;36mget_loc\u001b[1;34m(self, key, method, tolerance)\u001b[0m\n\u001b[0;32m   3360\u001b[0m             \u001b[1;32mtry\u001b[0m\u001b[1;33m:\u001b[0m\u001b[1;33m\u001b[0m\u001b[1;33m\u001b[0m\u001b[0m\n\u001b[1;32m-> 3361\u001b[1;33m                 \u001b[1;32mreturn\u001b[0m \u001b[0mself\u001b[0m\u001b[1;33m.\u001b[0m\u001b[0m_engine\u001b[0m\u001b[1;33m.\u001b[0m\u001b[0mget_loc\u001b[0m\u001b[1;33m(\u001b[0m\u001b[0mcasted_key\u001b[0m\u001b[1;33m)\u001b[0m\u001b[1;33m\u001b[0m\u001b[1;33m\u001b[0m\u001b[0m\n\u001b[0m\u001b[0;32m   3362\u001b[0m             \u001b[1;32mexcept\u001b[0m \u001b[0mKeyError\u001b[0m \u001b[1;32mas\u001b[0m \u001b[0merr\u001b[0m\u001b[1;33m:\u001b[0m\u001b[1;33m\u001b[0m\u001b[1;33m\u001b[0m\u001b[0m\n",
      "\u001b[1;32m~\\Anaconda3\\envs\\taspen\\lib\\site-packages\\pandas\\_libs\\index.pyx\u001b[0m in \u001b[0;36mpandas._libs.index.IndexEngine.get_loc\u001b[1;34m()\u001b[0m\n",
      "\u001b[1;32m~\\Anaconda3\\envs\\taspen\\lib\\site-packages\\pandas\\_libs\\index.pyx\u001b[0m in \u001b[0;36mpandas._libs.index.IndexEngine.get_loc\u001b[1;34m()\u001b[0m\n",
      "\u001b[1;32mpandas\\_libs\\hashtable_class_helper.pxi\u001b[0m in \u001b[0;36mpandas._libs.hashtable.PyObjectHashTable.get_item\u001b[1;34m()\u001b[0m\n",
      "\u001b[1;32mpandas\\_libs\\hashtable_class_helper.pxi\u001b[0m in \u001b[0;36mpandas._libs.hashtable.PyObjectHashTable.get_item\u001b[1;34m()\u001b[0m\n",
      "\u001b[1;31mKeyError\u001b[0m: 'label'",
      "\nThe above exception was the direct cause of the following exception:\n",
      "\u001b[1;31mKeyError\u001b[0m                                  Traceback (most recent call last)",
      "\u001b[1;32mC:\\Users\\RIZAL3~1\\AppData\\Local\\Temp/ipykernel_25036/1429127790.py\u001b[0m in \u001b[0;36m<module>\u001b[1;34m\u001b[0m\n\u001b[1;32m----> 1\u001b[1;33m \u001b[0mplot_cluster_radar\u001b[0m\u001b[1;33m(\u001b[0m\u001b[0mdata_proviz\u001b[0m\u001b[1;33m,\u001b[0m\u001b[1;34m'label'\u001b[0m\u001b[1;33m)\u001b[0m\u001b[1;33m\u001b[0m\u001b[1;33m\u001b[0m\u001b[0m\n\u001b[0m",
      "\u001b[1;32m~\\Documents\\P4DA\\capstone-project\\helper.py\u001b[0m in \u001b[0;36mplot_cluster_radar\u001b[1;34m(data, cluster_label, features, center, ax, figsize, legend_loc, labels)\u001b[0m\n\u001b[0;32m    146\u001b[0m \u001b[1;33m\u001b[0m\u001b[0m\n\u001b[0;32m    147\u001b[0m         \u001b[1;32mif\u001b[0m \u001b[0mnoFeaturesGiven\u001b[0m\u001b[1;33m:\u001b[0m\u001b[1;33m\u001b[0m\u001b[1;33m\u001b[0m\u001b[0m\n\u001b[1;32m--> 148\u001b[1;33m             \u001b[0mfeatures\u001b[0m \u001b[1;33m=\u001b[0m \u001b[0mdata\u001b[0m\u001b[1;33m.\u001b[0m\u001b[0mcolumns\u001b[0m\u001b[1;33m.\u001b[0m\u001b[0mdrop\u001b[0m\u001b[1;33m(\u001b[0m\u001b[0mcluster_label\u001b[0m\u001b[1;33m)\u001b[0m\u001b[1;33m.\u001b[0m\u001b[0mtolist\u001b[0m\u001b[1;33m(\u001b[0m\u001b[1;33m)\u001b[0m \u001b[1;32mif\u001b[0m \u001b[0mhasClusterInDF\u001b[0m \u001b[1;32melse\u001b[0m \u001b[0mdata\u001b[0m\u001b[1;33m.\u001b[0m\u001b[0mcolumns\u001b[0m\u001b[1;33m.\u001b[0m\u001b[0mtolist\u001b[0m\u001b[1;33m(\u001b[0m\u001b[1;33m)\u001b[0m\u001b[1;33m\u001b[0m\u001b[1;33m\u001b[0m\u001b[0m\n\u001b[0m\u001b[0;32m    149\u001b[0m \u001b[1;33m\u001b[0m\u001b[0m\n\u001b[0;32m    150\u001b[0m         \u001b[1;32mif\u001b[0m \u001b[0mhasClusterInDF\u001b[0m\u001b[1;33m:\u001b[0m\u001b[1;33m\u001b[0m\u001b[1;33m\u001b[0m\u001b[0m\n",
      "\u001b[1;32m~\\Anaconda3\\envs\\taspen\\lib\\site-packages\\pandas\\core\\indexes\\multi.py\u001b[0m in \u001b[0;36mdrop\u001b[1;34m(self, codes, level, errors)\u001b[0m\n\u001b[0;32m   2199\u001b[0m         \u001b[1;32mfor\u001b[0m \u001b[0mlevel_codes\u001b[0m \u001b[1;32min\u001b[0m \u001b[0mcodes\u001b[0m\u001b[1;33m:\u001b[0m\u001b[1;33m\u001b[0m\u001b[1;33m\u001b[0m\u001b[0m\n\u001b[0;32m   2200\u001b[0m             \u001b[1;32mtry\u001b[0m\u001b[1;33m:\u001b[0m\u001b[1;33m\u001b[0m\u001b[1;33m\u001b[0m\u001b[0m\n\u001b[1;32m-> 2201\u001b[1;33m                 \u001b[0mloc\u001b[0m \u001b[1;33m=\u001b[0m \u001b[0mself\u001b[0m\u001b[1;33m.\u001b[0m\u001b[0mget_loc\u001b[0m\u001b[1;33m(\u001b[0m\u001b[0mlevel_codes\u001b[0m\u001b[1;33m)\u001b[0m\u001b[1;33m\u001b[0m\u001b[1;33m\u001b[0m\u001b[0m\n\u001b[0m\u001b[0;32m   2202\u001b[0m                 \u001b[1;31m# get_loc returns either an integer, a slice, or a boolean\u001b[0m\u001b[1;33m\u001b[0m\u001b[1;33m\u001b[0m\u001b[1;33m\u001b[0m\u001b[0m\n\u001b[0;32m   2203\u001b[0m                 \u001b[1;31m# mask\u001b[0m\u001b[1;33m\u001b[0m\u001b[1;33m\u001b[0m\u001b[1;33m\u001b[0m\u001b[0m\n",
      "\u001b[1;32m~\\Anaconda3\\envs\\taspen\\lib\\site-packages\\pandas\\core\\indexes\\multi.py\u001b[0m in \u001b[0;36mget_loc\u001b[1;34m(self, key, method)\u001b[0m\n\u001b[0;32m   2920\u001b[0m \u001b[1;33m\u001b[0m\u001b[0m\n\u001b[0;32m   2921\u001b[0m         \u001b[1;32mif\u001b[0m \u001b[1;32mnot\u001b[0m \u001b[0misinstance\u001b[0m\u001b[1;33m(\u001b[0m\u001b[0mkey\u001b[0m\u001b[1;33m,\u001b[0m \u001b[0mtuple\u001b[0m\u001b[1;33m)\u001b[0m\u001b[1;33m:\u001b[0m\u001b[1;33m\u001b[0m\u001b[1;33m\u001b[0m\u001b[0m\n\u001b[1;32m-> 2922\u001b[1;33m             \u001b[0mloc\u001b[0m \u001b[1;33m=\u001b[0m \u001b[0mself\u001b[0m\u001b[1;33m.\u001b[0m\u001b[0m_get_level_indexer\u001b[0m\u001b[1;33m(\u001b[0m\u001b[0mkey\u001b[0m\u001b[1;33m,\u001b[0m \u001b[0mlevel\u001b[0m\u001b[1;33m=\u001b[0m\u001b[1;36m0\u001b[0m\u001b[1;33m)\u001b[0m\u001b[1;33m\u001b[0m\u001b[1;33m\u001b[0m\u001b[0m\n\u001b[0m\u001b[0;32m   2923\u001b[0m             \u001b[1;32mreturn\u001b[0m \u001b[0m_maybe_to_slice\u001b[0m\u001b[1;33m(\u001b[0m\u001b[0mloc\u001b[0m\u001b[1;33m)\u001b[0m\u001b[1;33m\u001b[0m\u001b[1;33m\u001b[0m\u001b[0m\n\u001b[0;32m   2924\u001b[0m \u001b[1;33m\u001b[0m\u001b[0m\n",
      "\u001b[1;32m~\\Anaconda3\\envs\\taspen\\lib\\site-packages\\pandas\\core\\indexes\\multi.py\u001b[0m in \u001b[0;36m_get_level_indexer\u001b[1;34m(self, key, level, indexer)\u001b[0m\n\u001b[0;32m   3202\u001b[0m         \u001b[1;32melse\u001b[0m\u001b[1;33m:\u001b[0m\u001b[1;33m\u001b[0m\u001b[1;33m\u001b[0m\u001b[0m\n\u001b[0;32m   3203\u001b[0m \u001b[1;33m\u001b[0m\u001b[0m\n\u001b[1;32m-> 3204\u001b[1;33m             \u001b[0midx\u001b[0m \u001b[1;33m=\u001b[0m \u001b[0mself\u001b[0m\u001b[1;33m.\u001b[0m\u001b[0m_get_loc_single_level_index\u001b[0m\u001b[1;33m(\u001b[0m\u001b[0mlevel_index\u001b[0m\u001b[1;33m,\u001b[0m \u001b[0mkey\u001b[0m\u001b[1;33m)\u001b[0m\u001b[1;33m\u001b[0m\u001b[1;33m\u001b[0m\u001b[0m\n\u001b[0m\u001b[0;32m   3205\u001b[0m \u001b[1;33m\u001b[0m\u001b[0m\n\u001b[0;32m   3206\u001b[0m             \u001b[1;32mif\u001b[0m \u001b[0mlevel\u001b[0m \u001b[1;33m>\u001b[0m \u001b[1;36m0\u001b[0m \u001b[1;32mor\u001b[0m \u001b[0mself\u001b[0m\u001b[1;33m.\u001b[0m\u001b[0m_lexsort_depth\u001b[0m \u001b[1;33m==\u001b[0m \u001b[1;36m0\u001b[0m\u001b[1;33m:\u001b[0m\u001b[1;33m\u001b[0m\u001b[1;33m\u001b[0m\u001b[0m\n",
      "\u001b[1;32m~\\Anaconda3\\envs\\taspen\\lib\\site-packages\\pandas\\core\\indexes\\multi.py\u001b[0m in \u001b[0;36m_get_loc_single_level_index\u001b[1;34m(self, level_index, key)\u001b[0m\n\u001b[0;32m   2853\u001b[0m             \u001b[1;32mreturn\u001b[0m \u001b[1;33m-\u001b[0m\u001b[1;36m1\u001b[0m\u001b[1;33m\u001b[0m\u001b[1;33m\u001b[0m\u001b[0m\n\u001b[0;32m   2854\u001b[0m         \u001b[1;32melse\u001b[0m\u001b[1;33m:\u001b[0m\u001b[1;33m\u001b[0m\u001b[1;33m\u001b[0m\u001b[0m\n\u001b[1;32m-> 2855\u001b[1;33m             \u001b[1;32mreturn\u001b[0m \u001b[0mlevel_index\u001b[0m\u001b[1;33m.\u001b[0m\u001b[0mget_loc\u001b[0m\u001b[1;33m(\u001b[0m\u001b[0mkey\u001b[0m\u001b[1;33m)\u001b[0m\u001b[1;33m\u001b[0m\u001b[1;33m\u001b[0m\u001b[0m\n\u001b[0m\u001b[0;32m   2856\u001b[0m \u001b[1;33m\u001b[0m\u001b[0m\n\u001b[0;32m   2857\u001b[0m     \u001b[1;32mdef\u001b[0m \u001b[0mget_loc\u001b[0m\u001b[1;33m(\u001b[0m\u001b[0mself\u001b[0m\u001b[1;33m,\u001b[0m \u001b[0mkey\u001b[0m\u001b[1;33m,\u001b[0m \u001b[0mmethod\u001b[0m\u001b[1;33m=\u001b[0m\u001b[1;32mNone\u001b[0m\u001b[1;33m)\u001b[0m\u001b[1;33m:\u001b[0m\u001b[1;33m\u001b[0m\u001b[1;33m\u001b[0m\u001b[0m\n",
      "\u001b[1;32m~\\Anaconda3\\envs\\taspen\\lib\\site-packages\\pandas\\core\\indexes\\base.py\u001b[0m in \u001b[0;36mget_loc\u001b[1;34m(self, key, method, tolerance)\u001b[0m\n\u001b[0;32m   3361\u001b[0m                 \u001b[1;32mreturn\u001b[0m \u001b[0mself\u001b[0m\u001b[1;33m.\u001b[0m\u001b[0m_engine\u001b[0m\u001b[1;33m.\u001b[0m\u001b[0mget_loc\u001b[0m\u001b[1;33m(\u001b[0m\u001b[0mcasted_key\u001b[0m\u001b[1;33m)\u001b[0m\u001b[1;33m\u001b[0m\u001b[1;33m\u001b[0m\u001b[0m\n\u001b[0;32m   3362\u001b[0m             \u001b[1;32mexcept\u001b[0m \u001b[0mKeyError\u001b[0m \u001b[1;32mas\u001b[0m \u001b[0merr\u001b[0m\u001b[1;33m:\u001b[0m\u001b[1;33m\u001b[0m\u001b[1;33m\u001b[0m\u001b[0m\n\u001b[1;32m-> 3363\u001b[1;33m                 \u001b[1;32mraise\u001b[0m \u001b[0mKeyError\u001b[0m\u001b[1;33m(\u001b[0m\u001b[0mkey\u001b[0m\u001b[1;33m)\u001b[0m \u001b[1;32mfrom\u001b[0m \u001b[0merr\u001b[0m\u001b[1;33m\u001b[0m\u001b[1;33m\u001b[0m\u001b[0m\n\u001b[0m\u001b[0;32m   3364\u001b[0m \u001b[1;33m\u001b[0m\u001b[0m\n\u001b[0;32m   3365\u001b[0m         \u001b[1;32mif\u001b[0m \u001b[0mis_scalar\u001b[0m\u001b[1;33m(\u001b[0m\u001b[0mkey\u001b[0m\u001b[1;33m)\u001b[0m \u001b[1;32mand\u001b[0m \u001b[0misna\u001b[0m\u001b[1;33m(\u001b[0m\u001b[0mkey\u001b[0m\u001b[1;33m)\u001b[0m \u001b[1;32mand\u001b[0m \u001b[1;32mnot\u001b[0m \u001b[0mself\u001b[0m\u001b[1;33m.\u001b[0m\u001b[0mhasnans\u001b[0m\u001b[1;33m:\u001b[0m\u001b[1;33m\u001b[0m\u001b[1;33m\u001b[0m\u001b[0m\n",
      "\u001b[1;31mKeyError\u001b[0m: 'label'"
     ]
    }
   ],
   "source": [
    "plot_cluster_radar(data_proviz,'label')"
   ]
  },
  {
   "cell_type": "markdown",
   "metadata": {},
   "source": [
    "* **Conclusion** (*2 points*)\n",
    "    * Is your goal achieved?\n",
    "    * Is the problem can be solved by machine learning?\n",
    "    * What model did you use and how is the performance?\n",
    "    * What is the potential business implementation of your capstone project?"
   ]
  },
  {
   "cell_type": "code",
   "execution_count": null,
   "metadata": {},
   "outputs": [],
   "source": [
    "# code here\n",
    "\n"
   ]
  }
 ],
 "metadata": {
  "kernelspec": {
   "display_name": "taspen",
   "language": "python",
   "name": "taspen"
  },
  "language_info": {
   "codemirror_mode": {
    "name": "ipython",
    "version": 3
   },
   "file_extension": ".py",
   "mimetype": "text/x-python",
   "name": "python",
   "nbconvert_exporter": "python",
   "pygments_lexer": "ipython3",
   "version": "3.8.8"
  },
  "toc": {
   "base_numbering": 1,
   "nav_menu": {},
   "number_sections": true,
   "sideBar": true,
   "skip_h1_title": false,
   "title_cell": "Table of Contents",
   "title_sidebar": "Contents",
   "toc_cell": false,
   "toc_position": {},
   "toc_section_display": true,
   "toc_window_display": false
  }
 },
 "nbformat": 4,
 "nbformat_minor": 4
}
